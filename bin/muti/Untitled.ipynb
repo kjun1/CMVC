{
 "cells": [
  {
   "cell_type": "code",
   "execution_count": 8,
   "id": "7da36b05-35d6-4fe7-ad0b-3e9ff3a3ad47",
   "metadata": {},
   "outputs": [],
   "source": [
    "import time\n",
    "from multiprocessing import Pool\n",
    "from pprint import pprint as print"
   ]
  },
  {
   "cell_type": "code",
   "execution_count": 9,
   "id": "8712c6d9-9246-4537-9536-2cbf0dc11ce1",
   "metadata": {},
   "outputs": [],
   "source": [
    "# 並列処理させる関数\n",
    "def nijou(x):\n",
    "    print('input: %d' % x)\n",
    "    time.sleep(2)\n",
    "    retValue = x * x\n",
    "    print('double: %d' % (retValue))\n",
    "    return(retValue)"
   ]
  },
  {
   "cell_type": "code",
   "execution_count": 10,
   "id": "897c8172-0dcb-4227-8966-555cb80e357b",
   "metadata": {},
   "outputs": [
    {
     "name": "stdout",
     "output_type": "stream",
     "text": [
      "'input: 1''input: 0''input: 2'\n",
      "\n",
      "'input: 3'\n",
      "\n",
      "'double: 0''double: 1''double: 4'\n",
      "\n",
      "'double: 9'\n",
      "'input: 5''input: 4'\n",
      "'input: 6'\n",
      "\n",
      "\n",
      "'input: 7'\n",
      "'double: 16''double: 25''double: 36'\n",
      "\n",
      "\n",
      "'double: 49''input: 9''input: 8''input: 10'\n",
      "\n",
      "\n",
      "\n",
      "'input: 11'\n",
      "'double: 64''double: 100''double: 81'\n",
      "\n",
      "\n",
      "'double: 121'\n",
      "[0, 1, 4, 9, 16, 25, 36, 49, 64, 81, 100, 121]\n"
     ]
    },
    {
     "name": "stderr",
     "output_type": "stream",
     "text": [
      "Process ForkPoolWorker-15:\n",
      "Process ForkPoolWorker-16:\n",
      "Process ForkPoolWorker-14:\n",
      "Process ForkPoolWorker-13:\n",
      "Traceback (most recent call last):\n",
      "Traceback (most recent call last):\n",
      "Traceback (most recent call last):\n",
      "Traceback (most recent call last):\n",
      "  File \"/home/jun/.pyenv/versions/3.7.4/lib/python3.7/multiprocessing/process.py\", line 297, in _bootstrap\n",
      "    self.run()\n",
      "  File \"/home/jun/.pyenv/versions/3.7.4/lib/python3.7/multiprocessing/process.py\", line 297, in _bootstrap\n",
      "    self.run()\n",
      "  File \"/home/jun/.pyenv/versions/3.7.4/lib/python3.7/multiprocessing/process.py\", line 297, in _bootstrap\n",
      "    self.run()\n",
      "  File \"/home/jun/.pyenv/versions/3.7.4/lib/python3.7/multiprocessing/process.py\", line 99, in run\n",
      "    self._target(*self._args, **self._kwargs)\n",
      "  File \"/home/jun/.pyenv/versions/3.7.4/lib/python3.7/multiprocessing/process.py\", line 99, in run\n",
      "    self._target(*self._args, **self._kwargs)\n",
      "  File \"/home/jun/.pyenv/versions/3.7.4/lib/python3.7/multiprocessing/process.py\", line 99, in run\n",
      "    self._target(*self._args, **self._kwargs)\n",
      "  File \"/home/jun/.pyenv/versions/3.7.4/lib/python3.7/multiprocessing/pool.py\", line 110, in worker\n",
      "    task = get()\n",
      "  File \"/home/jun/.pyenv/versions/3.7.4/lib/python3.7/multiprocessing/pool.py\", line 110, in worker\n",
      "    task = get()\n",
      "  File \"/home/jun/.pyenv/versions/3.7.4/lib/python3.7/multiprocessing/pool.py\", line 110, in worker\n",
      "    task = get()\n",
      "  File \"/home/jun/.pyenv/versions/3.7.4/lib/python3.7/multiprocessing/process.py\", line 297, in _bootstrap\n",
      "    self.run()\n",
      "  File \"/home/jun/.pyenv/versions/3.7.4/lib/python3.7/multiprocessing/queues.py\", line 351, in get\n",
      "    with self._rlock:\n",
      "  File \"/home/jun/.pyenv/versions/3.7.4/lib/python3.7/multiprocessing/queues.py\", line 351, in get\n",
      "    with self._rlock:\n",
      "  File \"/home/jun/.pyenv/versions/3.7.4/lib/python3.7/multiprocessing/queues.py\", line 352, in get\n",
      "    res = self._reader.recv_bytes()\n",
      "  File \"/home/jun/.pyenv/versions/3.7.4/lib/python3.7/multiprocessing/synchronize.py\", line 95, in __enter__\n",
      "    return self._semlock.__enter__()\n",
      "  File \"/home/jun/.pyenv/versions/3.7.4/lib/python3.7/multiprocessing/synchronize.py\", line 95, in __enter__\n",
      "    return self._semlock.__enter__()\n",
      "KeyboardInterrupt\n",
      "  File \"/home/jun/.pyenv/versions/3.7.4/lib/python3.7/multiprocessing/connection.py\", line 216, in recv_bytes\n",
      "    buf = self._recv_bytes(maxlength)\n",
      "KeyboardInterrupt\n",
      "  File \"/home/jun/.pyenv/versions/3.7.4/lib/python3.7/multiprocessing/process.py\", line 99, in run\n",
      "    self._target(*self._args, **self._kwargs)\n",
      "  File \"/home/jun/.pyenv/versions/3.7.4/lib/python3.7/multiprocessing/connection.py\", line 407, in _recv_bytes\n",
      "    buf = self._recv(4)\n",
      "  File \"/home/jun/.pyenv/versions/3.7.4/lib/python3.7/multiprocessing/pool.py\", line 110, in worker\n",
      "    task = get()\n",
      "  File \"/home/jun/.pyenv/versions/3.7.4/lib/python3.7/multiprocessing/connection.py\", line 379, in _recv\n",
      "    chunk = read(handle, remaining)\n",
      "  File \"/home/jun/.pyenv/versions/3.7.4/lib/python3.7/multiprocessing/queues.py\", line 351, in get\n",
      "    with self._rlock:\n",
      "KeyboardInterrupt\n",
      "  File \"/home/jun/.pyenv/versions/3.7.4/lib/python3.7/multiprocessing/synchronize.py\", line 95, in __enter__\n",
      "    return self._semlock.__enter__()\n",
      "KeyboardInterrupt\n"
     ]
    }
   ],
   "source": [
    "if __name__ == \"__main__\":\n",
    "    p = Pool(4) # プロセス数を4に設定\n",
    "    result = p.map(nijou, range(12))  # nijou()に0,1,..,9を与えて並列演算\n",
    "    print(result)"
   ]
  }
 ],
 "metadata": {
  "kernelspec": {
   "display_name": "Python 3",
   "language": "python",
   "name": "python3"
  },
  "language_info": {
   "codemirror_mode": {
    "name": "ipython",
    "version": 3
   },
   "file_extension": ".py",
   "mimetype": "text/x-python",
   "name": "python",
   "nbconvert_exporter": "python",
   "pygments_lexer": "ipython3",
   "version": "3.7.4"
  }
 },
 "nbformat": 4,
 "nbformat_minor": 5
}
