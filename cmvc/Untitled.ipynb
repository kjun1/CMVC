{
 "cells": [
  {
   "cell_type": "code",
   "execution_count": 1,
   "id": "5402d452-d0f6-4bb1-b29b-ecdd2a627a09",
   "metadata": {},
   "outputs": [],
   "source": [
    "from cmvc import *\n",
    "from torch import optim"
   ]
  },
  {
   "cell_type": "code",
   "execution_count": 2,
   "id": "cf385a51-e0fb-40b4-8c7d-b48462b27e15",
   "metadata": {},
   "outputs": [],
   "source": [
    "net = Net()"
   ]
  },
  {
   "cell_type": "code",
   "execution_count": 3,
   "id": "278c37c0-aa21-44ce-917c-dbabef81e7f9",
   "metadata": {},
   "outputs": [],
   "source": [
    "device = \"cpu\""
   ]
  },
  {
   "cell_type": "markdown",
   "id": "60a72772-7b43-468a-9f23-80593f040945",
   "metadata": {},
   "source": [
    "\"\"\"\n",
    "\n",
    "入力\n",
    "\n",
    "1: バッチサイズ\n",
    "\n",
    "2: channel\n",
    "\n",
    "3: mfcc_size(画像における縦)\n",
    "\n",
    "4: uttr_len(画像における横)\n",
    "\n",
    "\"\"\""
   ]
  },
  {
   "cell_type": "markdown",
   "id": "342d4dc7-c3fa-4340-aba1-d342b7c974d2",
   "metadata": {},
   "source": [
    "# train "
   ]
  },
  {
   "cell_type": "code",
   "execution_count": 4,
   "id": "ce5c34b0-a046-4639-8649-1adc3e907f0c",
   "metadata": {},
   "outputs": [],
   "source": [
    "x = torch.ones((2,1,36,24))\n",
    "y = torch.ones((2,3,32,32))\n",
    "\n",
    "\n",
    "optimizer = optim.Adam(net.parameters(), lr=0.001)\n",
    "net.train()\n",
    "\n",
    "x = x.to(device) \n",
    "y = y.to(device)\n",
    "net.zero_grad()\n",
    "loss = net.loss(x, y)\n",
    "loss.backward()\n",
    "optimizer.step()"
   ]
  },
  {
   "cell_type": "code",
   "execution_count": null,
   "id": "62d82342-7f19-4e02-9591-d81b0e1b1224",
   "metadata": {},
   "outputs": [],
   "source": []
  },
  {
   "cell_type": "code",
   "execution_count": 5,
   "id": "f63fd2a3-e3ea-48b6-9ea5-3d2316bb9b8e",
   "metadata": {},
   "outputs": [
    {
     "name": "stdout",
     "output_type": "stream",
     "text": [
      "torch.Size([2, 8])\n",
      "torch.Size([2, 8])\n",
      "torch.Size([2, 8])\n",
      "torch.Size([2, 8])\n",
      "torch.Size([2, 8])\n",
      "torch.Size([2, 8])\n",
      "torch.Size([2, 8])\n",
      "torch.Size([2, 8])\n"
     ]
    }
   ],
   "source": [
    "x = torch.ones((2,8,1,8))\n",
    "for i in range(x.size()[-1]):\n",
    "    print(x[:,:,:,i].squeeze().size())"
   ]
  },
  {
   "cell_type": "markdown",
   "id": "57109904-7276-4afc-8374-2e9c5daa433b",
   "metadata": {},
   "source": [
    "# eval"
   ]
  },
  {
   "cell_type": "code",
   "execution_count": 12,
   "id": "6cccdda1-5124-4174-b5da-15d8094283e0",
   "metadata": {},
   "outputs": [
    {
     "name": "stdout",
     "output_type": "stream",
     "text": [
      "torch.Size([2, 8, 1, 2])\n",
      "torch.Size([2, 3, 36, 36, 2])\n"
     ]
    }
   ],
   "source": [
    "x = torch.ones((2,1,36,16))\n",
    "y = torch.ones((2,3,32,32))\n",
    "\n",
    "net.eval()\n",
    "with torch.no_grad():\n",
    "    x = x.to(device) \n",
    "    y = y.to(device)\n",
    "    print(net.forward(x, y).size())"
   ]
  }
 ],
 "metadata": {
  "kernelspec": {
   "display_name": "Python 3",
   "language": "python",
   "name": "python3"
  },
  "language_info": {
   "codemirror_mode": {
    "name": "ipython",
    "version": 3
   },
   "file_extension": ".py",
   "mimetype": "text/x-python",
   "name": "python",
   "nbconvert_exporter": "python",
   "pygments_lexer": "ipython3",
   "version": "3.7.4"
  }
 },
 "nbformat": 4,
 "nbformat_minor": 5
}
