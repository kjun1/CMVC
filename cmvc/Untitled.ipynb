{
 "cells": [
  {
   "cell_type": "code",
   "execution_count": 1,
   "id": "5402d452-d0f6-4bb1-b29b-ecdd2a627a09",
   "metadata": {},
   "outputs": [],
   "source": [
    "from cmvc import *\n",
    "from torch import optim"
   ]
  },
  {
   "cell_type": "code",
   "execution_count": 2,
   "id": "cf385a51-e0fb-40b4-8c7d-b48462b27e15",
   "metadata": {},
   "outputs": [],
   "source": [
    "net = Net()"
   ]
  },
  {
   "cell_type": "code",
   "execution_count": 3,
   "id": "278c37c0-aa21-44ce-917c-dbabef81e7f9",
   "metadata": {},
   "outputs": [],
   "source": [
    "device = \"cpu\""
   ]
  },
  {
   "cell_type": "markdown",
   "id": "60a72772-7b43-468a-9f23-80593f040945",
   "metadata": {},
   "source": [
    "\"\"\"\n",
    "\n",
    "入力\n",
    "\n",
    "1: バッチサイズ\n",
    "\n",
    "2: channel\n",
    "\n",
    "3: mfcc_size(画像における縦)\n",
    "\n",
    "4: uttr_len(画像における横)\n",
    "\n",
    "\"\"\""
   ]
  },
  {
   "cell_type": "code",
   "execution_count": 4,
   "id": "6c98a547-9e99-416e-a9de-575f5e07e44e",
   "metadata": {},
   "outputs": [
    {
     "data": {
      "text/plain": [
       "torch.Size([2, 3, 32, 32])"
      ]
     },
     "execution_count": 4,
     "metadata": {},
     "output_type": "execute_result"
    }
   ],
   "source": [
    "c = torch.ones((2,8))\n",
    "fd = FaceDecoder()\n",
    "fd(c).size()"
   ]
  },
  {
   "cell_type": "markdown",
   "id": "342d4dc7-c3fa-4340-aba1-d342b7c974d2",
   "metadata": {},
   "source": [
    "# train "
   ]
  },
  {
   "cell_type": "code",
   "execution_count": 5,
   "id": "ce5c34b0-a046-4639-8649-1adc3e907f0c",
   "metadata": {},
   "outputs": [
    {
     "name": "stdout",
     "output_type": "stream",
     "text": [
      "tensor(0.0182, grad_fn=<MulBackward0>)\n"
     ]
    }
   ],
   "source": [
    "x = torch.zeros((2,1,36,24))\n",
    "y = torch.zeros((2,3,32,32))\n",
    "\n",
    "\n",
    "optimizer = optim.Adam(net.parameters(), lr=0.001)\n",
    "net.train()\n",
    "\n",
    "x = x.to(device) \n",
    "y = y.to(device)\n",
    "net.zero_grad()\n",
    "print(net.test(x, y))\n",
    "#loss = net.loss(x, y)\n",
    "#print(loss)\n",
    "#loss.backward()\n",
    "#optimizer.step()"
   ]
  },
  {
   "cell_type": "code",
   "execution_count": null,
   "id": "62d82342-7f19-4e02-9591-d81b0e1b1224",
   "metadata": {},
   "outputs": [],
   "source": []
  },
  {
   "cell_type": "code",
   "execution_count": 6,
   "id": "f63fd2a3-e3ea-48b6-9ea5-3d2316bb9b8e",
   "metadata": {},
   "outputs": [
    {
     "data": {
      "text/plain": [
       "'\\nx = torch.ones((2,8,1,8))\\nfor i in range(x.size()[-1]):\\n    print(x[:,:,:,i].squeeze().size())\\n'"
      ]
     },
     "execution_count": 6,
     "metadata": {},
     "output_type": "execute_result"
    }
   ],
   "source": [
    "\"\"\"\n",
    "x = torch.ones((2,8,1,8))\n",
    "for i in range(x.size()[-1]):\n",
    "    print(x[:,:,:,i].squeeze().size())\n",
    "\"\"\""
   ]
  },
  {
   "cell_type": "markdown",
   "id": "57109904-7276-4afc-8374-2e9c5daa433b",
   "metadata": {},
   "source": [
    "# eval"
   ]
  },
  {
   "cell_type": "code",
   "execution_count": 7,
   "id": "6cccdda1-5124-4174-b5da-15d8094283e0",
   "metadata": {},
   "outputs": [
    {
     "name": "stdout",
     "output_type": "stream",
     "text": [
      "torch.Size([2, 1, 36, 16])\n"
     ]
    }
   ],
   "source": [
    "x = torch.ones((2,1,36,16))\n",
    "y = torch.ones((2,3,32,32))\n",
    "\n",
    "net.eval()\n",
    "with torch.no_grad():\n",
    "    x = x.to(device) \n",
    "    y = y.to(device)\n",
    "    print(net.forward(x, y).size())"
   ]
  },
  {
   "cell_type": "code",
   "execution_count": null,
   "id": "3f87ddb4-1cad-4636-be64-0e46736a2f99",
   "metadata": {},
   "outputs": [],
   "source": []
  },
  {
   "cell_type": "markdown",
   "id": "fdc97f74-7331-4d44-bf6b-a230017c1f7d",
   "metadata": {},
   "source": [
    "# 画像"
   ]
  },
  {
   "cell_type": "code",
   "execution_count": 2,
   "id": "bc7040d7-59fb-4b60-b29a-e5e0dfe3d490",
   "metadata": {},
   "outputs": [],
   "source": [
    "import cv2"
   ]
  },
  {
   "cell_type": "code",
   "execution_count": null,
   "id": "4b5ae538-7a62-4ac9-82d4-3cdb6f807a88",
   "metadata": {},
   "outputs": [],
   "source": []
  }
 ],
 "metadata": {
  "kernelspec": {
   "display_name": "Python 3",
   "language": "python",
   "name": "python3"
  },
  "language_info": {
   "codemirror_mode": {
    "name": "ipython",
    "version": 3
   },
   "file_extension": ".py",
   "mimetype": "text/x-python",
   "name": "python",
   "nbconvert_exporter": "python",
   "pygments_lexer": "ipython3",
   "version": "3.7.4"
  }
 },
 "nbformat": 4,
 "nbformat_minor": 5
}
