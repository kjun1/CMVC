{
 "cells": [
  {
   "cell_type": "code",
   "execution_count": 2,
   "id": "801cad9a-4958-49a3-95fd-09afb1fd391b",
   "metadata": {},
   "outputs": [],
   "source": [
    "import toml\n",
    "import os\n",
    "import pandas as pd\n",
    "import cv2\n",
    "import torch"
   ]
  },
  {
   "cell_type": "code",
   "execution_count": 2,
   "id": "c411eaac-9518-48bf-97c2-acb2eee672ac",
   "metadata": {},
   "outputs": [],
   "source": [
    "dict_toml = toml.load(open('../config.toml'))"
   ]
  },
  {
   "cell_type": "code",
   "execution_count": 3,
   "id": "3a9fa17e-a7e0-4b5f-a2bb-749c9c8c99fc",
   "metadata": {},
   "outputs": [],
   "source": [
    "image_path = dict_toml[\"path\"][\"dataset\"][\"image\"]"
   ]
  },
  {
   "cell_type": "code",
   "execution_count": 4,
   "id": "636614fb-c6cc-4c79-9724-a371d0fa3094",
   "metadata": {},
   "outputs": [],
   "source": [
    "#image_df = pd.read_table(\"../../list_attr_celeba.txt\", header=0,sep=\" \", index_col=0)"
   ]
  },
  {
   "cell_type": "code",
   "execution_count": 5,
   "id": "ecc7da5e-adea-4142-a785-5ddb65466751",
   "metadata": {},
   "outputs": [],
   "source": [
    "#image_df[\"Male\"][\"000001.jpg\"]"
   ]
  },
  {
   "cell_type": "code",
   "execution_count": 4,
   "id": "3046071a-ef7d-4f0c-ba10-b3eb86a8c64f",
   "metadata": {},
   "outputs": [],
   "source": [
    "f = open('../not_detected.txt', 'r')\n",
    "\n",
    "datalist = f.read().splitlines()\n",
    "f.close()"
   ]
  },
  {
   "cell_type": "code",
   "execution_count": 7,
   "id": "95872457-8daa-44f9-9c71-476b169b4331",
   "metadata": {},
   "outputs": [],
   "source": [
    "#data = [not i in datalist for i in image_df.index]"
   ]
  },
  {
   "cell_type": "code",
   "execution_count": 8,
   "id": "ef0b170b-721c-41ea-89e2-f1a17948c6aa",
   "metadata": {},
   "outputs": [],
   "source": [
    "#image_df[data][\"Male\"]"
   ]
  },
  {
   "cell_type": "code",
   "execution_count": 9,
   "id": "b86dceab-b1a2-4d6e-a7c9-1da256d29d2a",
   "metadata": {},
   "outputs": [],
   "source": [
    "#os.listdir(\"../../voice/train/F/\")"
   ]
  },
  {
   "cell_type": "code",
   "execution_count": 10,
   "id": "688fcb6c-197d-4bea-ad79-f1ca11794566",
   "metadata": {},
   "outputs": [
    {
     "data": {
      "text/plain": [
       "'\\nfor i in os.listdir(\"../../voice/train/F/VCC2SF1\"):\\n    a = pd.read_pickle(\"../../voice/train/F/VCC2SF1/\"+i)\\n    print(a.shape)\\n'"
      ]
     },
     "execution_count": 10,
     "metadata": {},
     "output_type": "execute_result"
    }
   ],
   "source": [
    "\"\"\"\n",
    "for i in os.listdir(\"../../voice/train/F/VCC2SF1\"):\n",
    "    a = pd.read_pickle(\"../../voice/train/F/VCC2SF1/\"+i)\n",
    "    print(a.shape)\n",
    "\"\"\""
   ]
  },
  {
   "cell_type": "markdown",
   "id": "6559b925-a02f-4469-ab6b-99b8dd27db4e",
   "metadata": {},
   "source": [
    "# dataloader"
   ]
  },
  {
   "cell_type": "markdown",
   "id": "7c795306-86ad-4bf3-9b2a-4f14e5b371f2",
   "metadata": {},
   "source": [
    "## transform"
   ]
  },
  {
   "cell_type": "markdown",
   "id": "93d6e2ba-a5ee-4f89-a1d6-5c980465b8e2",
   "metadata": {},
   "source": [
    "### voice"
   ]
  },
  {
   "cell_type": "code",
   "execution_count": 7,
   "id": "0640eaf0-537c-4509-bcc0-0a1f36b638e4",
   "metadata": {},
   "outputs": [],
   "source": [
    "class VoiceTrans(object):\n",
    "    def __init__(self, maxi, mini):\n",
    "        self.maxi = maxi\n",
    "        self.mini = mini\n",
    "\n",
    "    def norm_voice(self, array):\n",
    "        array -= self.mini\n",
    "        array /= self.maxi\n",
    "    \n",
    "        return array\n",
    "    \n",
    "    def cut(self, voice):\n",
    "        return voice[:, :voice.shape[1]-voice.shape[1]%4]\n",
    "    \n",
    "    def __call__(self, sample):\n",
    "        \n",
    "        return self.cut(self.norm_voice(sample))"
   ]
  },
  {
   "cell_type": "code",
   "execution_count": 12,
   "id": "055b26da-92ba-4455-b4eb-06c825e6c29e",
   "metadata": {},
   "outputs": [],
   "source": [
    "voice = pd.read_pickle(\"../../voice/train/VCC2SF1/10001.pkl\")"
   ]
  },
  {
   "cell_type": "code",
   "execution_count": 13,
   "id": "b5c47ec5-a1a0-4725-9df1-a5302738bad6",
   "metadata": {},
   "outputs": [],
   "source": [
    "#t = VoiceTrans()\n",
    "#t(voice).shape"
   ]
  },
  {
   "cell_type": "markdown",
   "id": "18941a2d-d88a-4511-8b4c-298969d9f610",
   "metadata": {},
   "source": [
    "### image"
   ]
  },
  {
   "cell_type": "code",
   "execution_count": 8,
   "id": "c01de658-f8c1-4293-865c-3c10f53d1fe9",
   "metadata": {},
   "outputs": [],
   "source": [
    "class ImageTrans(object):\n",
    "    def __init__(self):\n",
    "        pass\n",
    "\n",
    "    def norm_image(self, array):\n",
    "        return array/255\n",
    "    \n",
    "    def __call__(self, sample):\n",
    "        \n",
    "        return self.norm_image(sample).T"
   ]
  },
  {
   "cell_type": "code",
   "execution_count": 15,
   "id": "6a55e234-e9a3-43dc-8635-896d425154c4",
   "metadata": {},
   "outputs": [],
   "source": [
    "#image = cv2.imread(\"../../image/000001.jpg\")"
   ]
  },
  {
   "cell_type": "code",
   "execution_count": 16,
   "id": "84b10a77-6ac1-4c72-afbc-10be463b76e3",
   "metadata": {},
   "outputs": [],
   "source": [
    "#a = ImageTrans()\n",
    "#a(image).shape"
   ]
  },
  {
   "cell_type": "markdown",
   "id": "489c3070-f124-427e-981d-1695aca21004",
   "metadata": {},
   "source": [
    "# dataset"
   ]
  },
  {
   "cell_type": "code",
   "execution_count": 4,
   "id": "15041124-e78c-4218-91ee-a57a85620030",
   "metadata": {},
   "outputs": [],
   "source": [
    "import pathlib\n",
    "import itertools\n",
    "import pandas as pd\n",
    "import numpy as np\n",
    "import torch"
   ]
  },
  {
   "cell_type": "markdown",
   "id": "fb699db3-e2f8-4bf7-bc0c-eef71942d632",
   "metadata": {},
   "source": [
    "### voice"
   ]
  },
  {
   "cell_type": "code",
   "execution_count": 18,
   "id": "13a47ca6-8f6a-459d-a61e-58ac1eee4c8f",
   "metadata": {},
   "outputs": [],
   "source": [
    "class VoiceDataset(torch.utils.data.Dataset):\n",
    "    def __init__(self, path, train, trans):\n",
    "        p = pathlib.Path(path)\n",
    "        \n",
    "        if train:\n",
    "            self.path = p / \"train\"\n",
    "        else:\n",
    "            self.path = p / \"eval\"\n",
    "        \n",
    "        self.trans = trans\n",
    "        \n",
    "        \n",
    "        self.dir = [i for i in self.path.iterdir() if i.is_dir()]       \n",
    "        self.file = list(itertools.chain.from_iterable([[j for j in i.iterdir()] for i in self.dir]))\n",
    "        \n",
    "        self.data = [pd.read_pickle(i) for i in self.file]\n",
    "        self.label = [1 if \"M\" == str(i.parent)[-2] else -1 for i in self.file]\n",
    "    \n",
    "        self.datanum = len(self.data)\n",
    "    \n",
    "    def __len__(self):\n",
    "        return self.datanum\n",
    "\n",
    "    def __getitem__(self, idx):\n",
    "        out_data = self.data[idx]\n",
    "        out_label = self.label[idx]\n",
    "\n",
    "        if self.trans:\n",
    "            k = np.concatenate(self.data,axis=1)\n",
    "            maxi = k.max()\n",
    "            mini = k.min()\n",
    "            self.transform = VoiceTrans(maxi, mini)\n",
    "            \n",
    "            out_data = torch.tensor([[self.transform(out_data)]], dtype=torch.float32)\n",
    "\n",
    "        return out_data, out_label"
   ]
  },
  {
   "cell_type": "code",
   "execution_count": 19,
   "id": "dee5a9d0-3cda-4a84-9570-e3ccfb749f4f",
   "metadata": {},
   "outputs": [],
   "source": [
    "c = VoiceDataset(path=\"../../voice\", train=1, trans=1)"
   ]
  },
  {
   "cell_type": "code",
   "execution_count": 20,
   "id": "a2b5c5c3-1bb3-4b70-bc7b-6387be798b83",
   "metadata": {},
   "outputs": [
    {
     "data": {
      "text/plain": [
       "1"
      ]
     },
     "execution_count": 20,
     "metadata": {},
     "output_type": "execute_result"
    }
   ],
   "source": [
    "c.__getitem__(0)[1]"
   ]
  },
  {
   "cell_type": "markdown",
   "id": "ee3579e2-9773-4540-aeb8-c96556e2a5d1",
   "metadata": {},
   "source": [
    "### face"
   ]
  },
  {
   "cell_type": "code",
   "execution_count": 21,
   "id": "fbce392a-2dfb-4dc7-adf7-7b57a2970956",
   "metadata": {},
   "outputs": [],
   "source": [
    "import random\n",
    "\n",
    "class ImageDataset(torch.utils.data.Dataset):\n",
    "    def __init__(self, path, trans):\n",
    "        p = pathlib.Path(path)\n",
    "        if trans:\n",
    "            self.transform = ImageTrans()\n",
    "        \n",
    "        self.dir = p\n",
    "        self.file = [i for i in self.dir.iterdir() if i.suffix == \".jpg\"]\n",
    "        \n",
    "        \n",
    "        if self.transform:\n",
    "            self.data = [self.transform(cv2.imread(str(i))) for i in self.file]\n",
    "        else:\n",
    "            self.data = [cv2.imread(str(i)) for i in self.file]\n",
    " \n",
    "        \n",
    "        image_df = pd.read_table(\"../../list_attr_celeba.txt\", header=0,sep=\" \", index_col=0)\n",
    "        self.label = [image_df[\"Male\"][i.name] for i  in self.file]\n",
    "        \"\"\"\n",
    "        for i in self.file:\n",
    "            try:\n",
    "                image_df[\"Male\"][i.name]\n",
    "            except:\n",
    "                print(i.name)\n",
    "        \"\"\"     \n",
    "                \n",
    "        \n",
    "        self.datanum = len(self.data)\n",
    "    \n",
    "    def __len__(self):\n",
    "        return self.datanum\n",
    "\n",
    "    def __getitem__(self, idx):\n",
    "        out_data = self.data[idx]\n",
    "        out_label = self.label[idx]\n",
    "\n",
    "        \n",
    "        return out_data, out_label\n",
    "    \n",
    "    def sample_label(self, male, num):\n",
    "        l = random.sample([i for i, x in enumerate(self.label) if x==male], num)\n",
    "        return l\n",
    "    \n",
    "    def sample_data(self, male, num):\n",
    "        label = self.sample_label(male, num)\n",
    "        data = self.data\n",
    "        print(data[0].shape)\n",
    "        return torch.tensor([data[i] for i in label])\n",
    "    "
   ]
  },
  {
   "cell_type": "code",
   "execution_count": 22,
   "id": "300c42f9-6844-4123-b2bd-042eb9befde0",
   "metadata": {},
   "outputs": [],
   "source": [
    "#f = ImageDataset(\"../../image\", trans=1)"
   ]
  },
  {
   "cell_type": "markdown",
   "id": "5f7a456b-a2bc-4adb-a635-05495747ff2b",
   "metadata": {},
   "source": [
    "## pair"
   ]
  },
  {
   "cell_type": "code",
   "execution_count": 5,
   "id": "61b2508a-dfe7-4df9-933a-7494279a981b",
   "metadata": {},
   "outputs": [],
   "source": [
    "from random import sample\n",
    "\n",
    "class PairDataset(torch.utils.data.Dataset):\n",
    "    \n",
    "    voice_path: pathlib.PosixPath\n",
    "    \n",
    "    \n",
    "    \n",
    "    def __init__(self, voice_path, train, image_path):\n",
    "        # path定義\n",
    "        p = pathlib.Path(voice_path)\n",
    "        if train:\n",
    "            self.voice_path = p / \"train\"\n",
    "        else:\n",
    "            self.voice_path = p / \"eval\"\n",
    "        \n",
    "        self.image_path = pathlib.Path(image_path)\n",
    "        \n",
    "        \n",
    "        voice_dir = [i for i in self.voice_path.iterdir() if i.is_dir()]       \n",
    "        voice_file = list(itertools.chain.from_iterable([[j for j in i.iterdir()] for i in voice_dir]))\n",
    "        \n",
    "        voice_data = [pd.read_pickle(i) for i in voice_file]\n",
    "        self.voice_label = [1 if \"M\" == str(i.parent)[-2] else -1 for i in voice_file]\n",
    "        \n",
    "        k = np.concatenate(voice_data,axis=1)\n",
    "        self.voice_transform = VoiceTrans(k.max(), k.min())\n",
    "        \n",
    "        \n",
    "        self.voice_data = [torch.tensor([[self.voice_transform(i)]], dtype=torch.float32) for i in voice_data]\n",
    "        \n",
    "        \n",
    "        \n",
    "        \n",
    "        \n",
    "        \n",
    "        image_dir = self.image_path\n",
    "        image_file = [i for i in image_dir.iterdir() if i.suffix == \".jpg\"]\n",
    "        \n",
    "        \n",
    "        image_df = pd.read_table(self.image_path / \"list_attr_celeba.txt\", header=0,sep=\" \", index_col=0)\n",
    "        self.image_label = [image_df[\"Male\"][i.name] for i  in image_file]\n",
    "        self.image_label_male = [i for i, x in enumerate(self.image_label) if x == 1]\n",
    "        self.image_label_female= [i for i, x in enumerate(self.image_label) if x == -1]\n",
    "        \n",
    "        self.image_transform = ImageTrans()\n",
    "        \n",
    "        self.image_data = [torch.tensor(self.image_transform(cv2.imread(str(i))), dtype=torch.float32) for i in image_file]\n",
    " \n",
    "        \n",
    "    \n",
    "           \n",
    "        \n",
    "        self.datanum = len(self.voice_data)\n",
    "    \n",
    "    \n",
    "    \n",
    "    def __len__(self):\n",
    "        return self.datanum\n",
    "\n",
    "    def __getitem__(self, idx):\n",
    "\n",
    "        out_voice_data = self.voice_data[idx]\n",
    "        out_label = self.voice_label[idx]\n",
    "        \n",
    "        k = 4\n",
    "        if out_label == 1:\n",
    "            c = sample(self.image_label_male, k)\n",
    "        else:\n",
    "            c = sample(self.image_label_female, k)\n",
    "        out_image_data = torch.stack([self.image_data[i] for i in c])\n",
    "        \n",
    "\n",
    "        return out_voice_data, out_image_data, out_label"
   ]
  },
  {
   "cell_type": "code",
   "execution_count": 9,
   "id": "86e55b43-acaa-4eb3-baff-7d99c9abb0be",
   "metadata": {},
   "outputs": [],
   "source": [
    "c = PairDataset(voice_path=\"../../voice\", train=True, image_path=\"../../image\")"
   ]
  },
  {
   "cell_type": "code",
   "execution_count": null,
   "id": "994cb0d4-08a5-47d3-a1cf-a9afa6c10550",
   "metadata": {},
   "outputs": [],
   "source": [
    "d = PairDataset(voice_path=\"../../voice\", train=False, image_path=\"../../image\")"
   ]
  },
  {
   "cell_type": "code",
   "execution_count": 26,
   "id": "79af0eab-0b92-4317-bdf5-98ca49832c07",
   "metadata": {},
   "outputs": [
    {
     "data": {
      "text/plain": [
       "pathlib.PosixPath"
      ]
     },
     "execution_count": 26,
     "metadata": {},
     "output_type": "execute_result"
    }
   ],
   "source": [
    "type(pathlib.Path())"
   ]
  },
  {
   "cell_type": "markdown",
   "id": "69b03b0f-60ca-4218-bcfa-09c5b94ead73",
   "metadata": {},
   "source": [
    "## dataloader"
   ]
  },
  {
   "cell_type": "code",
   "execution_count": 10,
   "id": "60e40bb2-ed2a-4be1-8dc9-44a08848b4f3",
   "metadata": {},
   "outputs": [],
   "source": [
    "def collate_fn(batch):\n",
    "    # batchはDatasetの返り値 (タプル) のリスト\n",
    "    voices, images = [], []\n",
    "    for voice, image, label in batch:\n",
    "        voices.append(voice)\n",
    "        images.append(image)\n",
    "        #labels.append(label)\n",
    "    \n",
    "    \n",
    "    # labelsはTensorリストのまま\n",
    "\n",
    "    return voices, images"
   ]
  },
  {
   "cell_type": "code",
   "execution_count": 11,
   "id": "61a306ec-dff5-45f9-b856-9a6c552c402a",
   "metadata": {},
   "outputs": [],
   "source": [
    "batch_size = 64"
   ]
  },
  {
   "cell_type": "code",
   "execution_count": 12,
   "id": "4dddd53a-c25b-4761-92fa-ba819f45d89b",
   "metadata": {},
   "outputs": [],
   "source": [
    "trainloader = torch.utils.data.DataLoader(c, batch_size = batch_size, shuffle = False, num_workers = 0, collate_fn = collate_fn)"
   ]
  },
  {
   "cell_type": "code",
   "execution_count": 30,
   "id": "ffbfa4bd-be0d-4bb9-8fdc-4f976ddfd850",
   "metadata": {},
   "outputs": [],
   "source": [
    "testloader = torch.utils.data.DataLoader(d, batch_size = batch_size, shuffle = False, num_workers = 0, collate_fn = collate_fn)"
   ]
  },
  {
   "cell_type": "code",
   "execution_count": 27,
   "id": "d2b4f659-abed-4390-b473-95b183510c5a",
   "metadata": {},
   "outputs": [
    {
     "name": "stdout",
     "output_type": "stream",
     "text": [
      "torch.Size([1, 1, 36, 176])\n",
      "torch.Size([4, 3, 32, 32])\n"
     ]
    }
   ],
   "source": [
    "for voice, image in trainloader:\n",
    "    break\n",
    "print(voice[0].shape)\n",
    "print(image[0].shape)"
   ]
  },
  {
   "cell_type": "code",
   "execution_count": 13,
   "id": "f201c87a-4685-4393-959a-a260484822e1",
   "metadata": {},
   "outputs": [],
   "source": [
    "from cmvc import *"
   ]
  },
  {
   "cell_type": "code",
   "execution_count": 14,
   "id": "d93512f7-27d9-4c90-b8d1-eacf63f741c5",
   "metadata": {},
   "outputs": [],
   "source": [
    "net = Net()"
   ]
  },
  {
   "cell_type": "code",
   "execution_count": 15,
   "id": "27981726-d83c-4a31-bb55-ee9f8b0ce187",
   "metadata": {},
   "outputs": [],
   "source": [
    "from torch import optim"
   ]
  },
  {
   "cell_type": "code",
   "execution_count": 24,
   "id": "41fefc51-a456-47ca-8dd5-3b34a3f3e71d",
   "metadata": {},
   "outputs": [
    {
     "data": {
      "text/plain": [
       "tensor(43.7029, grad_fn=<AddBackward0>)"
      ]
     },
     "execution_count": 24,
     "metadata": {},
     "output_type": "execute_result"
    }
   ],
   "source": [
    "net.loss(voice[0], image[0])"
   ]
  },
  {
   "cell_type": "code",
   "execution_count": null,
   "id": "553826e8-0022-4620-878f-e1c76873bce9",
   "metadata": {},
   "outputs": [],
   "source": [
    "def train_net(net, train_loader,\n",
    "             optimizer_cls=optim.Adam,\n",
    "             n_iter=10, device=\"cpu\"):\n",
    "    train_losses = []\n",
    "    \n",
    "    optimizer = optimizer_cls(net.parameters(), lr=0.001)\n",
    "    for epoch in range(n_iter):\n",
    "        running_loss = 0.0\n",
    "        \n",
    "        net.train()\n",
    "        \n",
    "        for i, (xx, yy) in enumerate(train_loader):\n",
    "            optimizer.zero_grad()\n",
    "            losses = torch.zeros(1)\n",
    "            \n",
    "            for batch in range(len(xx)):\n",
    "                loss = net.loss(xx[batch], yy[batch])\n",
    "                losses += loss\n",
    "            \n",
    "            losses.backward()\n",
    "            optimizer.step()\n",
    "            print(losses.item(), flush=True)\n",
    "            \n",
    "            running_loss += losses.item()\n",
    "        \n",
    "        \n",
    "        train_losses.append(running_loss / i)\n",
    "        \n",
    "        print(epoch, train_losses[-1], flush=True)"
   ]
  },
  {
   "cell_type": "code",
   "execution_count": null,
   "id": "f54620ed-5ef9-4342-9801-49617f44e003",
   "metadata": {},
   "outputs": [],
   "source": [
    "net.to(\"cpu\")\n",
    "train_net(net, trainloader)"
   ]
  }
 ],
 "metadata": {
  "kernelspec": {
   "display_name": "Python 3",
   "language": "python",
   "name": "python3"
  },
  "language_info": {
   "codemirror_mode": {
    "name": "ipython",
    "version": 3
   },
   "file_extension": ".py",
   "mimetype": "text/x-python",
   "name": "python",
   "nbconvert_exporter": "python",
   "pygments_lexer": "ipython3",
   "version": "3.7.4"
  }
 },
 "nbformat": 4,
 "nbformat_minor": 5
}
