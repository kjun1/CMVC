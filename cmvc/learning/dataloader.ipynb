{
 "cells": [
  {
   "cell_type": "code",
   "execution_count": 1,
   "id": "801cad9a-4958-49a3-95fd-09afb1fd391b",
   "metadata": {},
   "outputs": [],
   "source": [
    "import toml\n",
    "import os\n",
    "import pandas as pd\n",
    "import cv2\n",
    "import torch"
   ]
  },
  {
   "cell_type": "code",
   "execution_count": 2,
   "id": "c411eaac-9518-48bf-97c2-acb2eee672ac",
   "metadata": {},
   "outputs": [],
   "source": [
    "dict_toml = toml.load(open('../config.toml'))"
   ]
  },
  {
   "cell_type": "code",
   "execution_count": 3,
   "id": "3a9fa17e-a7e0-4b5f-a2bb-749c9c8c99fc",
   "metadata": {},
   "outputs": [],
   "source": [
    "image_path = dict_toml[\"path\"][\"dataset\"][\"image\"]"
   ]
  },
  {
   "cell_type": "code",
   "execution_count": 4,
   "id": "636614fb-c6cc-4c79-9724-a371d0fa3094",
   "metadata": {},
   "outputs": [],
   "source": [
    "#image_df = pd.read_table(\"../../list_attr_celeba.txt\", header=0,sep=\" \", index_col=0)"
   ]
  },
  {
   "cell_type": "code",
   "execution_count": 5,
   "id": "ecc7da5e-adea-4142-a785-5ddb65466751",
   "metadata": {},
   "outputs": [],
   "source": [
    "#image_df[\"Male\"][\"000001.jpg\"]"
   ]
  },
  {
   "cell_type": "code",
   "execution_count": 6,
   "id": "3046071a-ef7d-4f0c-ba10-b3eb86a8c64f",
   "metadata": {},
   "outputs": [],
   "source": [
    "f = open('../not_detected.txt', 'r')\n",
    "\n",
    "datalist = f.read().splitlines()\n",
    "f.close()"
   ]
  },
  {
   "cell_type": "code",
   "execution_count": 7,
   "id": "95872457-8daa-44f9-9c71-476b169b4331",
   "metadata": {},
   "outputs": [],
   "source": [
    "#data = [not i in datalist for i in image_df.index]"
   ]
  },
  {
   "cell_type": "code",
   "execution_count": 8,
   "id": "ef0b170b-721c-41ea-89e2-f1a17948c6aa",
   "metadata": {},
   "outputs": [],
   "source": [
    "#image_df[data][\"Male\"]"
   ]
  },
  {
   "cell_type": "code",
   "execution_count": 9,
   "id": "b86dceab-b1a2-4d6e-a7c9-1da256d29d2a",
   "metadata": {},
   "outputs": [],
   "source": [
    "#os.listdir(\"../../voice/train/F/\")"
   ]
  },
  {
   "cell_type": "code",
   "execution_count": 10,
   "id": "688fcb6c-197d-4bea-ad79-f1ca11794566",
   "metadata": {},
   "outputs": [
    {
     "data": {
      "text/plain": [
       "'\\nfor i in os.listdir(\"../../voice/train/F/VCC2SF1\"):\\n    a = pd.read_pickle(\"../../voice/train/F/VCC2SF1/\"+i)\\n    print(a.shape)\\n'"
      ]
     },
     "execution_count": 10,
     "metadata": {},
     "output_type": "execute_result"
    }
   ],
   "source": [
    "\"\"\"\n",
    "for i in os.listdir(\"../../voice/train/F/VCC2SF1\"):\n",
    "    a = pd.read_pickle(\"../../voice/train/F/VCC2SF1/\"+i)\n",
    "    print(a.shape)\n",
    "\"\"\""
   ]
  },
  {
   "cell_type": "markdown",
   "id": "6559b925-a02f-4469-ab6b-99b8dd27db4e",
   "metadata": {},
   "source": [
    "# dataloader"
   ]
  },
  {
   "cell_type": "markdown",
   "id": "7c795306-86ad-4bf3-9b2a-4f14e5b371f2",
   "metadata": {},
   "source": [
    "## transform"
   ]
  },
  {
   "cell_type": "markdown",
   "id": "93d6e2ba-a5ee-4f89-a1d6-5c980465b8e2",
   "metadata": {},
   "source": [
    "### voice"
   ]
  },
  {
   "cell_type": "code",
   "execution_count": 11,
   "id": "0640eaf0-537c-4509-bcc0-0a1f36b638e4",
   "metadata": {},
   "outputs": [],
   "source": [
    "class VoiceTrans(object):\n",
    "    def __init__(self, maxi, mini):\n",
    "        self.maxi = maxi\n",
    "        self.mini = mini\n",
    "\n",
    "    def norm_voice(self, array):\n",
    "        array -= self.mini\n",
    "        array /= self.maxi\n",
    "    \n",
    "        return array\n",
    "    \n",
    "    def cut(self, voice):\n",
    "        return voice[:, :voice.shape[1]-voice.shape[1]%4]\n",
    "    \n",
    "    def __call__(self, sample):\n",
    "        \n",
    "        return self.cut(self.norm_voice(sample))"
   ]
  },
  {
   "cell_type": "code",
   "execution_count": 12,
   "id": "055b26da-92ba-4455-b4eb-06c825e6c29e",
   "metadata": {},
   "outputs": [],
   "source": [
    "voice = pd.read_pickle(\"../../voice/train/VCC2SF1/10001.pkl\")"
   ]
  },
  {
   "cell_type": "code",
   "execution_count": 13,
   "id": "b5c47ec5-a1a0-4725-9df1-a5302738bad6",
   "metadata": {},
   "outputs": [],
   "source": [
    "#t = VoiceTrans()\n",
    "#t(voice).shape"
   ]
  },
  {
   "cell_type": "markdown",
   "id": "18941a2d-d88a-4511-8b4c-298969d9f610",
   "metadata": {},
   "source": [
    "### image"
   ]
  },
  {
   "cell_type": "code",
   "execution_count": 14,
   "id": "c01de658-f8c1-4293-865c-3c10f53d1fe9",
   "metadata": {},
   "outputs": [],
   "source": [
    "class ImageTrans(object):\n",
    "    def __init__(self):\n",
    "        pass\n",
    "\n",
    "    def norm_image(self, array):\n",
    "        return array/255\n",
    "    \n",
    "    def __call__(self, sample):\n",
    "        \n",
    "        return self.norm_image(sample).T"
   ]
  },
  {
   "cell_type": "code",
   "execution_count": 15,
   "id": "6a55e234-e9a3-43dc-8635-896d425154c4",
   "metadata": {},
   "outputs": [],
   "source": [
    "#image = cv2.imread(\"../../image/000001.jpg\")"
   ]
  },
  {
   "cell_type": "code",
   "execution_count": 16,
   "id": "84b10a77-6ac1-4c72-afbc-10be463b76e3",
   "metadata": {},
   "outputs": [],
   "source": [
    "#a = ImageTrans()\n",
    "#a(image).shape"
   ]
  },
  {
   "cell_type": "markdown",
   "id": "489c3070-f124-427e-981d-1695aca21004",
   "metadata": {},
   "source": [
    "# dataset"
   ]
  },
  {
   "cell_type": "code",
   "execution_count": 17,
   "id": "15041124-e78c-4218-91ee-a57a85620030",
   "metadata": {},
   "outputs": [],
   "source": [
    "import pathlib\n",
    "import itertools\n",
    "import pandas as pd\n",
    "import numpy as np\n",
    "import torch"
   ]
  },
  {
   "cell_type": "markdown",
   "id": "fb699db3-e2f8-4bf7-bc0c-eef71942d632",
   "metadata": {},
   "source": [
    "### voice"
   ]
  },
  {
   "cell_type": "code",
   "execution_count": 18,
   "id": "13a47ca6-8f6a-459d-a61e-58ac1eee4c8f",
   "metadata": {},
   "outputs": [],
   "source": [
    "class VoiceDataset(torch.utils.data.Dataset):\n",
    "    def __init__(self, path, train, trans):\n",
    "        p = pathlib.Path(path)\n",
    "        \n",
    "        if train:\n",
    "            self.path = p / \"train\"\n",
    "        else:\n",
    "            self.path = p / \"eval\"\n",
    "        \n",
    "        self.trans = trans\n",
    "        \n",
    "        \n",
    "        self.dir = [i for i in self.path.iterdir() if i.is_dir()]       \n",
    "        self.file = list(itertools.chain.from_iterable([[j for j in i.iterdir()] for i in self.dir]))\n",
    "        \n",
    "        self.data = [pd.read_pickle(i) for i in self.file]\n",
    "        self.label = [1 if \"M\" == str(i.parent)[-2] else -1 for i in self.file]\n",
    "    \n",
    "        self.datanum = len(self.data)\n",
    "    \n",
    "    def __len__(self):\n",
    "        return self.datanum\n",
    "\n",
    "    def __getitem__(self, idx):\n",
    "        out_data = self.data[idx]\n",
    "        out_label = self.label[idx]\n",
    "\n",
    "        if self.trans:\n",
    "            k = np.concatenate(self.data,axis=1)\n",
    "            maxi = k.max()\n",
    "            mini = k.min()\n",
    "            self.transform = VoiceTrans(maxi, mini)\n",
    "            \n",
    "            out_data = torch.tensor([[self.transform(out_data)]], dtype=torch.float32)\n",
    "\n",
    "        return out_data, out_label"
   ]
  },
  {
   "cell_type": "code",
   "execution_count": 19,
   "id": "dee5a9d0-3cda-4a84-9570-e3ccfb749f4f",
   "metadata": {},
   "outputs": [],
   "source": [
    "#c = VoiceDataset(path=\"../../voice\", train=1, trans=1)"
   ]
  },
  {
   "cell_type": "code",
   "execution_count": 20,
   "id": "a2b5c5c3-1bb3-4b70-bc7b-6387be798b83",
   "metadata": {},
   "outputs": [],
   "source": [
    "#c.__getitem__(0)[1]"
   ]
  },
  {
   "cell_type": "markdown",
   "id": "ee3579e2-9773-4540-aeb8-c96556e2a5d1",
   "metadata": {},
   "source": [
    "### face"
   ]
  },
  {
   "cell_type": "code",
   "execution_count": 21,
   "id": "fbce392a-2dfb-4dc7-adf7-7b57a2970956",
   "metadata": {},
   "outputs": [],
   "source": [
    "import random\n",
    "\n",
    "class ImageDataset(torch.utils.data.Dataset):\n",
    "    def __init__(self, path, trans):\n",
    "        p = pathlib.Path(path)\n",
    "        if trans:\n",
    "            self.transform = ImageTrans()\n",
    "        \n",
    "        self.dir = p\n",
    "        self.file = [i for i in self.dir.iterdir() if i.suffix == \".jpg\"]\n",
    "        \n",
    "        \n",
    "        if self.transform:\n",
    "            self.data = [self.transform(cv2.imread(str(i))) for i in self.file]\n",
    "        else:\n",
    "            self.data = [cv2.imread(str(i)) for i in self.file]\n",
    " \n",
    "        \n",
    "        image_df = pd.read_table(\"../../list_attr_celeba.txt\", header=0,sep=\" \", index_col=0)\n",
    "        self.label = [image_df[\"Male\"][i.name] for i  in self.file]\n",
    "        \"\"\"\n",
    "        for i in self.file:\n",
    "            try:\n",
    "                image_df[\"Male\"][i.name]\n",
    "            except:\n",
    "                print(i.name)\n",
    "        \"\"\"     \n",
    "                \n",
    "        \n",
    "        self.datanum = len(self.data)\n",
    "    \n",
    "    def __len__(self):\n",
    "        return self.datanum\n",
    "\n",
    "    def __getitem__(self, idx):\n",
    "        out_data = self.data[idx]\n",
    "        out_label = self.label[idx]\n",
    "\n",
    "        \n",
    "        return out_data, out_label\n",
    "    \n",
    "    def sample_label(self, male, num):\n",
    "        l = random.sample([i for i, x in enumerate(self.label) if x==male], num)\n",
    "        return l\n",
    "    \n",
    "    def sample_data(self, male, num):\n",
    "        label = self.sample_label(male, num)\n",
    "        data = self.data\n",
    "        print(data[0].shape)\n",
    "        return torch.tensor([data[i] for i in label])\n",
    "    "
   ]
  },
  {
   "cell_type": "code",
   "execution_count": 22,
   "id": "300c42f9-6844-4123-b2bd-042eb9befde0",
   "metadata": {},
   "outputs": [],
   "source": [
    "#f = ImageDataset(\"../../image\", trans=1)"
   ]
  },
  {
   "cell_type": "markdown",
   "id": "5f7a456b-a2bc-4adb-a635-05495747ff2b",
   "metadata": {},
   "source": [
    "## pair"
   ]
  },
  {
   "cell_type": "code",
   "execution_count": 23,
   "id": "61b2508a-dfe7-4df9-933a-7494279a981b",
   "metadata": {},
   "outputs": [],
   "source": [
    "from random import sample\n",
    "\n",
    "class PairDataset(torch.utils.data.Dataset):\n",
    "    \n",
    "    voice_path: pathlib.PosixPath\n",
    "    \n",
    "    \n",
    "    \n",
    "    def __init__(self, voice_path, train, image_path):\n",
    "        # path定義\n",
    "        p = pathlib.Path(voice_path)\n",
    "        if train:\n",
    "            self.voice_path = p / \"train\"\n",
    "        else:\n",
    "            self.voice_path = p / \"eval\"\n",
    "        \n",
    "        self.image_path = pathlib.Path(image_path)\n",
    "        \n",
    "        \n",
    "        voice_dir = [i for i in self.voice_path.iterdir() if i.is_dir()]       \n",
    "        voice_file = list(itertools.chain.from_iterable([[j for j in i.iterdir()] for i in voice_dir]))\n",
    "        \n",
    "        voice_data = [pd.read_pickle(i) for i in voice_file]\n",
    "        self.voice_label = [1 if \"M\" == str(i.parent)[-2] else -1 for i in voice_file]\n",
    "        \n",
    "        k = np.concatenate(voice_data,axis=1)\n",
    "        self.voice_transform = VoiceTrans(k.max(), k.min())\n",
    "        \n",
    "        \n",
    "        self.voice_data = [torch.tensor([[self.voice_transform(i)]], dtype=torch.float32) for i in voice_data]\n",
    "        \n",
    "        \n",
    "        \n",
    "        \n",
    "        \n",
    "        \n",
    "        image_dir = self.image_path\n",
    "        image_file = [i for i in image_dir.iterdir() if i.suffix == \".jpg\"]\n",
    "        \n",
    "        \n",
    "        image_df = pd.read_table(self.image_path / \"list_attr_celeba.txt\", header=0,sep=\" \", index_col=0)\n",
    "        self.image_label = [image_df[\"Male\"][i.name] for i  in image_file]\n",
    "        self.image_label_male = [i for i, x in enumerate(self.image_label) if x == 1]\n",
    "        self.image_label_female= [i for i, x in enumerate(self.image_label) if x == -1]\n",
    "        \n",
    "        self.image_transform = ImageTrans()\n",
    "        \n",
    "        self.image_data = [torch.tensor(self.image_transform(cv2.imread(str(i))), dtype=torch.float32) for i in image_file]\n",
    " \n",
    "        \n",
    "    \n",
    "    \n",
    "        self.datanum = len(self.voice_data)\n",
    "    \n",
    "    \n",
    "    \n",
    "    def __len__(self):\n",
    "        return self.datanum\n",
    "\n",
    "    def __getitem__(self, idx):\n",
    "\n",
    "        out_voice_data = self.voice_data[idx]\n",
    "        out_label = self.voice_label[idx]\n",
    "        \n",
    "        k = 2\n",
    "        if out_label == 1:\n",
    "            c = sample(self.image_label_male, k)\n",
    "        else:\n",
    "            c = sample(self.image_label_female, k)\n",
    "        out_image_data = torch.stack([self.image_data[i] for i in c])\n",
    "        \n",
    "\n",
    "        return out_voice_data, out_image_data, out_label"
   ]
  },
  {
   "cell_type": "code",
   "execution_count": 24,
   "id": "86e55b43-acaa-4eb3-baff-7d99c9abb0be",
   "metadata": {},
   "outputs": [],
   "source": [
    "c = PairDataset(voice_path=\"../../voice\", train=True, image_path=\"../../image\")"
   ]
  },
  {
   "cell_type": "code",
   "execution_count": 25,
   "id": "994cb0d4-08a5-47d3-a1cf-a9afa6c10550",
   "metadata": {},
   "outputs": [],
   "source": [
    "#d = PairDataset(voice_path=\"../../voice\", train=False, image_path=\"../../image\")"
   ]
  },
  {
   "cell_type": "code",
   "execution_count": 26,
   "id": "79af0eab-0b92-4317-bdf5-98ca49832c07",
   "metadata": {},
   "outputs": [
    {
     "data": {
      "text/plain": [
       "pathlib.PosixPath"
      ]
     },
     "execution_count": 26,
     "metadata": {},
     "output_type": "execute_result"
    }
   ],
   "source": [
    "type(pathlib.Path())"
   ]
  },
  {
   "cell_type": "markdown",
   "id": "69b03b0f-60ca-4218-bcfa-09c5b94ead73",
   "metadata": {},
   "source": [
    "## dataloader"
   ]
  },
  {
   "cell_type": "code",
   "execution_count": 27,
   "id": "60e40bb2-ed2a-4be1-8dc9-44a08848b4f3",
   "metadata": {},
   "outputs": [],
   "source": [
    "def collate_fn(batch):\n",
    "    # batchはDatasetの返り値 (タプル) のリスト\n",
    "    voices, images = [], []\n",
    "    for voice, image, label in batch:\n",
    "        voices.append(voice)\n",
    "        images.append(image)\n",
    "        #labels.append(label)\n",
    "    \n",
    "    \n",
    "    # labelsはTensorリストのまま\n",
    "\n",
    "    return voices, images"
   ]
  },
  {
   "cell_type": "code",
   "execution_count": 39,
   "id": "61a306ec-dff5-45f9-b856-9a6c552c402a",
   "metadata": {},
   "outputs": [],
   "source": [
    "batch_size = 32"
   ]
  },
  {
   "cell_type": "code",
   "execution_count": 40,
   "id": "4dddd53a-c25b-4761-92fa-ba819f45d89b",
   "metadata": {},
   "outputs": [],
   "source": [
    "trainloader = torch.utils.data.DataLoader(c, batch_size = batch_size, shuffle = False, num_workers = 0, collate_fn = collate_fn)"
   ]
  },
  {
   "cell_type": "code",
   "execution_count": 30,
   "id": "ffbfa4bd-be0d-4bb9-8fdc-4f976ddfd850",
   "metadata": {},
   "outputs": [],
   "source": [
    "#testloader = torch.utils.data.DataLoader(d, batch_size = batch_size, shuffle = False, num_workers = 0, collate_fn = collate_fn)"
   ]
  },
  {
   "cell_type": "code",
   "execution_count": 31,
   "id": "d2b4f659-abed-4390-b473-95b183510c5a",
   "metadata": {},
   "outputs": [
    {
     "name": "stdout",
     "output_type": "stream",
     "text": [
      "torch.Size([1, 1, 36, 188])\n",
      "torch.Size([2, 3, 32, 32])\n"
     ]
    }
   ],
   "source": [
    "for voice, image in trainloader:\n",
    "    break\n",
    "print(voice[0].shape)\n",
    "print(image[0].shape)"
   ]
  },
  {
   "cell_type": "code",
   "execution_count": 32,
   "id": "f201c87a-4685-4393-959a-a260484822e1",
   "metadata": {},
   "outputs": [],
   "source": [
    "from cmvc import *"
   ]
  },
  {
   "cell_type": "code",
   "execution_count": 41,
   "id": "d93512f7-27d9-4c90-b8d1-eacf63f741c5",
   "metadata": {},
   "outputs": [],
   "source": [
    "net = Net()"
   ]
  },
  {
   "cell_type": "code",
   "execution_count": 34,
   "id": "27981726-d83c-4a31-bb55-ee9f8b0ce187",
   "metadata": {},
   "outputs": [],
   "source": [
    "from torch import optim"
   ]
  },
  {
   "cell_type": "code",
   "execution_count": 35,
   "id": "41fefc51-a456-47ca-8dd5-3b34a3f3e71d",
   "metadata": {},
   "outputs": [],
   "source": [
    "#net.loss(voice[0], image[0])"
   ]
  },
  {
   "cell_type": "code",
   "execution_count": 42,
   "id": "b211139a-f043-4485-82f9-22138147e4c4",
   "metadata": {},
   "outputs": [],
   "source": [
    "device = \"cuda:0\""
   ]
  },
  {
   "cell_type": "code",
   "execution_count": 43,
   "id": "553826e8-0022-4620-878f-e1c76873bce9",
   "metadata": {},
   "outputs": [],
   "source": [
    "def train_net(net, train_loader,\n",
    "             optimizer_cls=optim.Adam,\n",
    "             n_iter=10, device=device):\n",
    "    train_losses = []\n",
    "    \n",
    "    optimizer = optimizer_cls(net.parameters(), lr=0.001)\n",
    "    for epoch in range(n_iter):\n",
    "        running_loss = 0.0\n",
    "        \n",
    "        net.train()\n",
    "        \n",
    "        for i, (xx, yy) in enumerate(train_loader):\n",
    "            optimizer.zero_grad()\n",
    "            losses = torch.zeros(1).to(device)\n",
    "            \n",
    "            for batch in range(len(xx)):\n",
    "                voice = xx[batch].to(device)\n",
    "                image = yy[batch].to(device)\n",
    "                loss = net.loss(voice, image)\n",
    "                losses += loss\n",
    "            \n",
    "            losses.backward()\n",
    "            optimizer.step()\n",
    "            print(losses.item(), flush=True)\n",
    "            \n",
    "            running_loss += losses.item()\n",
    "        \n",
    "        \n",
    "        train_losses.append(running_loss / i)\n",
    "        \n",
    "        print(epoch, train_losses[-1], flush=True)"
   ]
  },
  {
   "cell_type": "code",
   "execution_count": 45,
   "id": "f54620ed-5ef9-4342-9801-49617f44e003",
   "metadata": {},
   "outputs": [
    {
     "ename": "RuntimeError",
     "evalue": "cuDNN error: CUDNN_STATUS_INTERNAL_ERROR\nYou can try to repro this exception using the following code snippet. If that doesn't trigger the error, please include your original repro script when reporting this issue.\n\nimport torch\ntorch.backends.cuda.matmul.allow_tf32 = True\ntorch.backends.cudnn.benchmark = False\ntorch.backends.cudnn.deterministic = False\ntorch.backends.cudnn.allow_tf32 = True\ndata = torch.randn([2, 128, 1, 17], dtype=torch.float, device='cuda', requires_grad=True)\nnet = torch.nn.Conv2d(128, 64, kernel_size=[1, 5], padding=[0, 2], stride=[1, 1], dilation=[1, 1], groups=1)\nnet = net.cuda().float()\nout = net(data)\nout.backward(torch.randn_like(out))\ntorch.cuda.synchronize()\n\nConvolutionParams \n    data_type = CUDNN_DATA_FLOAT\n    padding = [0, 2, 0]\n    stride = [1, 1, 0]\n    dilation = [1, 1, 0]\n    groups = 1\n    deterministic = false\n    allow_tf32 = true\ninput: TensorDescriptor 0x560e3cbadca0\n    type = CUDNN_DATA_FLOAT\n    nbDims = 4\n    dimA = 2, 128, 1, 17, \n    strideA = 2176, 17, 17, 1, \noutput: TensorDescriptor 0x560e3cbaf530\n    type = CUDNN_DATA_FLOAT\n    nbDims = 4\n    dimA = 2, 64, 1, 17, \n    strideA = 1088, 17, 17, 1, \nweight: FilterDescriptor 0x560e3cbb16d0\n    type = CUDNN_DATA_FLOAT\n    tensor_format = CUDNN_TENSOR_NCHW\n    nbDims = 4\n    dimA = 64, 128, 1, 5, \nPointer addresses: \n    input: 0x7fd02c7e9800\n    output: 0x7fd02fbdde00\n    weight: 0x7fd038dd8000\nForward algorithm: 5\n",
     "output_type": "error",
     "traceback": [
      "\u001b[0;31m---------------------------------------------------------------------------\u001b[0m",
      "\u001b[0;31mRuntimeError\u001b[0m                              Traceback (most recent call last)",
      "\u001b[0;32m<ipython-input-45-be7764a5409a>\u001b[0m in \u001b[0;36m<module>\u001b[0;34m\u001b[0m\n\u001b[1;32m      1\u001b[0m \u001b[0mnet\u001b[0m\u001b[0;34m.\u001b[0m\u001b[0mto\u001b[0m\u001b[0;34m(\u001b[0m\u001b[0mdevice\u001b[0m\u001b[0;34m)\u001b[0m\u001b[0;34m\u001b[0m\u001b[0;34m\u001b[0m\u001b[0m\n\u001b[0;32m----> 2\u001b[0;31m \u001b[0mtrain_net\u001b[0m\u001b[0;34m(\u001b[0m\u001b[0mnet\u001b[0m\u001b[0;34m,\u001b[0m \u001b[0mtrainloader\u001b[0m\u001b[0;34m)\u001b[0m\u001b[0;34m\u001b[0m\u001b[0;34m\u001b[0m\u001b[0m\n\u001b[0m",
      "\u001b[0;32m<ipython-input-43-18599ba63fcc>\u001b[0m in \u001b[0;36mtrain_net\u001b[0;34m(net, train_loader, optimizer_cls, n_iter, device)\u001b[0m\n\u001b[1;32m     17\u001b[0m                 \u001b[0mvoice\u001b[0m \u001b[0;34m=\u001b[0m \u001b[0mxx\u001b[0m\u001b[0;34m[\u001b[0m\u001b[0mbatch\u001b[0m\u001b[0;34m]\u001b[0m\u001b[0;34m.\u001b[0m\u001b[0mto\u001b[0m\u001b[0;34m(\u001b[0m\u001b[0mdevice\u001b[0m\u001b[0;34m)\u001b[0m\u001b[0;34m\u001b[0m\u001b[0;34m\u001b[0m\u001b[0m\n\u001b[1;32m     18\u001b[0m                 \u001b[0mimage\u001b[0m \u001b[0;34m=\u001b[0m \u001b[0myy\u001b[0m\u001b[0;34m[\u001b[0m\u001b[0mbatch\u001b[0m\u001b[0;34m]\u001b[0m\u001b[0;34m.\u001b[0m\u001b[0mto\u001b[0m\u001b[0;34m(\u001b[0m\u001b[0mdevice\u001b[0m\u001b[0;34m)\u001b[0m\u001b[0;34m\u001b[0m\u001b[0;34m\u001b[0m\u001b[0m\n\u001b[0;32m---> 19\u001b[0;31m                 \u001b[0mloss\u001b[0m \u001b[0;34m=\u001b[0m \u001b[0mnet\u001b[0m\u001b[0;34m.\u001b[0m\u001b[0mloss\u001b[0m\u001b[0;34m(\u001b[0m\u001b[0mvoice\u001b[0m\u001b[0;34m,\u001b[0m \u001b[0mimage\u001b[0m\u001b[0;34m)\u001b[0m\u001b[0;34m\u001b[0m\u001b[0;34m\u001b[0m\u001b[0m\n\u001b[0m\u001b[1;32m     20\u001b[0m                 \u001b[0mlosses\u001b[0m \u001b[0;34m+=\u001b[0m \u001b[0mloss\u001b[0m\u001b[0;34m\u001b[0m\u001b[0;34m\u001b[0m\u001b[0m\n\u001b[1;32m     21\u001b[0m \u001b[0;34m\u001b[0m\u001b[0m\n",
      "\u001b[0;32m~/CMVC/cmvc/models/model.py\u001b[0m in \u001b[0;36mloss\u001b[0;34m(self, x, y)\u001b[0m\n\u001b[1;32m     50\u001b[0m \u001b[0;34m\u001b[0m\u001b[0m\n\u001b[1;32m     51\u001b[0m \u001b[0;34m\u001b[0m\u001b[0m\n\u001b[0;32m---> 52\u001b[0;31m         \u001b[0mc_hat\u001b[0m \u001b[0;34m=\u001b[0m \u001b[0mself\u001b[0m\u001b[0;34m.\u001b[0m\u001b[0mve\u001b[0m\u001b[0;34m(\u001b[0m\u001b[0mx_hat\u001b[0m\u001b[0;34m)\u001b[0m\u001b[0;34m\u001b[0m\u001b[0;34m\u001b[0m\u001b[0m\n\u001b[0m\u001b[1;32m     53\u001b[0m \u001b[0;34m\u001b[0m\u001b[0m\n\u001b[1;32m     54\u001b[0m         \u001b[0ml\u001b[0m \u001b[0;34m=\u001b[0m \u001b[0;34m[\u001b[0m\u001b[0;34m]\u001b[0m\u001b[0;34m\u001b[0m\u001b[0;34m\u001b[0m\u001b[0m\n",
      "\u001b[0;32m~/.cache/pypoetry/virtualenvs/cmvc-JewgZZ61-py3.7/lib/python3.7/site-packages/torch/nn/modules/module.py\u001b[0m in \u001b[0;36m_call_impl\u001b[0;34m(self, *input, **kwargs)\u001b[0m\n\u001b[1;32m    887\u001b[0m             \u001b[0mresult\u001b[0m \u001b[0;34m=\u001b[0m \u001b[0mself\u001b[0m\u001b[0;34m.\u001b[0m\u001b[0m_slow_forward\u001b[0m\u001b[0;34m(\u001b[0m\u001b[0;34m*\u001b[0m\u001b[0minput\u001b[0m\u001b[0;34m,\u001b[0m \u001b[0;34m**\u001b[0m\u001b[0mkwargs\u001b[0m\u001b[0;34m)\u001b[0m\u001b[0;34m\u001b[0m\u001b[0;34m\u001b[0m\u001b[0m\n\u001b[1;32m    888\u001b[0m         \u001b[0;32melse\u001b[0m\u001b[0;34m:\u001b[0m\u001b[0;34m\u001b[0m\u001b[0;34m\u001b[0m\u001b[0m\n\u001b[0;32m--> 889\u001b[0;31m             \u001b[0mresult\u001b[0m \u001b[0;34m=\u001b[0m \u001b[0mself\u001b[0m\u001b[0;34m.\u001b[0m\u001b[0mforward\u001b[0m\u001b[0;34m(\u001b[0m\u001b[0;34m*\u001b[0m\u001b[0minput\u001b[0m\u001b[0;34m,\u001b[0m \u001b[0;34m**\u001b[0m\u001b[0mkwargs\u001b[0m\u001b[0;34m)\u001b[0m\u001b[0;34m\u001b[0m\u001b[0;34m\u001b[0m\u001b[0m\n\u001b[0m\u001b[1;32m    890\u001b[0m         for hook in itertools.chain(\n\u001b[1;32m    891\u001b[0m                 \u001b[0m_global_forward_hooks\u001b[0m\u001b[0;34m.\u001b[0m\u001b[0mvalues\u001b[0m\u001b[0;34m(\u001b[0m\u001b[0;34m)\u001b[0m\u001b[0;34m,\u001b[0m\u001b[0;34m\u001b[0m\u001b[0;34m\u001b[0m\u001b[0m\n",
      "\u001b[0;32m~/CMVC/cmvc/models/enc.py\u001b[0m in \u001b[0;36mforward\u001b[0;34m(self, x)\u001b[0m\n\u001b[1;32m    230\u001b[0m \u001b[0;34m\u001b[0m\u001b[0m\n\u001b[1;32m    231\u001b[0m     \u001b[0;32mdef\u001b[0m \u001b[0mforward\u001b[0m\u001b[0;34m(\u001b[0m\u001b[0mself\u001b[0m\u001b[0;34m,\u001b[0m \u001b[0mx\u001b[0m\u001b[0;34m)\u001b[0m\u001b[0;34m:\u001b[0m\u001b[0;34m\u001b[0m\u001b[0;34m\u001b[0m\u001b[0m\n\u001b[0;32m--> 232\u001b[0;31m         \u001b[0mmean\u001b[0m\u001b[0;34m,\u001b[0m \u001b[0mlog_var\u001b[0m \u001b[0;34m=\u001b[0m \u001b[0mself\u001b[0m\u001b[0;34m.\u001b[0m\u001b[0mvoice_encoder\u001b[0m\u001b[0;34m(\u001b[0m\u001b[0mx\u001b[0m\u001b[0;34m)\u001b[0m\u001b[0;34m\u001b[0m\u001b[0;34m\u001b[0m\u001b[0m\n\u001b[0m\u001b[1;32m    233\u001b[0m         \u001b[0mz\u001b[0m \u001b[0;34m=\u001b[0m \u001b[0mself\u001b[0m\u001b[0;34m.\u001b[0m\u001b[0mvoice_sample_z\u001b[0m\u001b[0;34m(\u001b[0m\u001b[0mmean\u001b[0m\u001b[0;34m,\u001b[0m \u001b[0mlog_var\u001b[0m\u001b[0;34m)\u001b[0m\u001b[0;34m\u001b[0m\u001b[0;34m\u001b[0m\u001b[0m\n\u001b[1;32m    234\u001b[0m \u001b[0;34m\u001b[0m\u001b[0m\n",
      "\u001b[0;32m~/CMVC/cmvc/models/enc.py\u001b[0m in \u001b[0;36mvoice_encoder\u001b[0;34m(self, x)\u001b[0m\n\u001b[1;32m    212\u001b[0m         \u001b[0mx\u001b[0m \u001b[0;34m=\u001b[0m \u001b[0mself\u001b[0m\u001b[0;34m.\u001b[0m\u001b[0mvoice_enc_d4\u001b[0m\u001b[0;34m(\u001b[0m\u001b[0mx\u001b[0m\u001b[0;34m)\u001b[0m\u001b[0;34m\u001b[0m\u001b[0;34m\u001b[0m\u001b[0m\n\u001b[1;32m    213\u001b[0m         \u001b[0mx\u001b[0m \u001b[0;34m=\u001b[0m \u001b[0mself\u001b[0m\u001b[0;34m.\u001b[0m\u001b[0mvoice_enc_d5\u001b[0m\u001b[0;34m(\u001b[0m\u001b[0mx\u001b[0m\u001b[0;34m)\u001b[0m\u001b[0;34m\u001b[0m\u001b[0;34m\u001b[0m\u001b[0m\n\u001b[0;32m--> 214\u001b[0;31m         \u001b[0mx\u001b[0m \u001b[0;34m=\u001b[0m \u001b[0mself\u001b[0m\u001b[0;34m.\u001b[0m\u001b[0mvoice_enc_d6\u001b[0m\u001b[0;34m(\u001b[0m\u001b[0mx\u001b[0m\u001b[0;34m)\u001b[0m\u001b[0;34m\u001b[0m\u001b[0;34m\u001b[0m\u001b[0m\n\u001b[0m\u001b[1;32m    215\u001b[0m         \u001b[0mx\u001b[0m \u001b[0;34m=\u001b[0m \u001b[0mself\u001b[0m\u001b[0;34m.\u001b[0m\u001b[0mvoice_enc_d7\u001b[0m\u001b[0;34m(\u001b[0m\u001b[0mx\u001b[0m\u001b[0;34m)\u001b[0m\u001b[0;34m\u001b[0m\u001b[0;34m\u001b[0m\u001b[0m\n\u001b[1;32m    216\u001b[0m         \"\"\"\n",
      "\u001b[0;32m~/.cache/pypoetry/virtualenvs/cmvc-JewgZZ61-py3.7/lib/python3.7/site-packages/torch/nn/modules/module.py\u001b[0m in \u001b[0;36m_call_impl\u001b[0;34m(self, *input, **kwargs)\u001b[0m\n\u001b[1;32m    887\u001b[0m             \u001b[0mresult\u001b[0m \u001b[0;34m=\u001b[0m \u001b[0mself\u001b[0m\u001b[0;34m.\u001b[0m\u001b[0m_slow_forward\u001b[0m\u001b[0;34m(\u001b[0m\u001b[0;34m*\u001b[0m\u001b[0minput\u001b[0m\u001b[0;34m,\u001b[0m \u001b[0;34m**\u001b[0m\u001b[0mkwargs\u001b[0m\u001b[0;34m)\u001b[0m\u001b[0;34m\u001b[0m\u001b[0;34m\u001b[0m\u001b[0m\n\u001b[1;32m    888\u001b[0m         \u001b[0;32melse\u001b[0m\u001b[0;34m:\u001b[0m\u001b[0;34m\u001b[0m\u001b[0;34m\u001b[0m\u001b[0m\n\u001b[0;32m--> 889\u001b[0;31m             \u001b[0mresult\u001b[0m \u001b[0;34m=\u001b[0m \u001b[0mself\u001b[0m\u001b[0;34m.\u001b[0m\u001b[0mforward\u001b[0m\u001b[0;34m(\u001b[0m\u001b[0;34m*\u001b[0m\u001b[0minput\u001b[0m\u001b[0;34m,\u001b[0m \u001b[0;34m**\u001b[0m\u001b[0mkwargs\u001b[0m\u001b[0;34m)\u001b[0m\u001b[0;34m\u001b[0m\u001b[0;34m\u001b[0m\u001b[0m\n\u001b[0m\u001b[1;32m    890\u001b[0m         for hook in itertools.chain(\n\u001b[1;32m    891\u001b[0m                 \u001b[0m_global_forward_hooks\u001b[0m\u001b[0;34m.\u001b[0m\u001b[0mvalues\u001b[0m\u001b[0;34m(\u001b[0m\u001b[0;34m)\u001b[0m\u001b[0;34m,\u001b[0m\u001b[0;34m\u001b[0m\u001b[0;34m\u001b[0m\u001b[0m\n",
      "\u001b[0;32m~/CMVC/cmvc/models/layer.py\u001b[0m in \u001b[0;36mforward\u001b[0;34m(self, x)\u001b[0m\n\u001b[1;32m     29\u001b[0m \u001b[0;34m\u001b[0m\u001b[0m\n\u001b[1;32m     30\u001b[0m     \u001b[0;32mdef\u001b[0m \u001b[0mforward\u001b[0m\u001b[0;34m(\u001b[0m\u001b[0mself\u001b[0m\u001b[0;34m,\u001b[0m \u001b[0mx\u001b[0m\u001b[0;34m)\u001b[0m\u001b[0;34m:\u001b[0m\u001b[0;34m\u001b[0m\u001b[0;34m\u001b[0m\u001b[0m\n\u001b[0;32m---> 31\u001b[0;31m         \u001b[0mx1\u001b[0m \u001b[0;34m=\u001b[0m \u001b[0mself\u001b[0m\u001b[0;34m.\u001b[0m\u001b[0mbn1\u001b[0m\u001b[0;34m(\u001b[0m\u001b[0mself\u001b[0m\u001b[0;34m.\u001b[0m\u001b[0mconv1\u001b[0m\u001b[0;34m(\u001b[0m\u001b[0mx\u001b[0m\u001b[0;34m)\u001b[0m\u001b[0;34m)\u001b[0m\u001b[0;34m\u001b[0m\u001b[0;34m\u001b[0m\u001b[0m\n\u001b[0m\u001b[1;32m     32\u001b[0m         \u001b[0mx2\u001b[0m \u001b[0;34m=\u001b[0m \u001b[0mself\u001b[0m\u001b[0;34m.\u001b[0m\u001b[0mbn2\u001b[0m\u001b[0;34m(\u001b[0m\u001b[0mself\u001b[0m\u001b[0;34m.\u001b[0m\u001b[0mconv2\u001b[0m\u001b[0;34m(\u001b[0m\u001b[0mx\u001b[0m\u001b[0;34m)\u001b[0m\u001b[0;34m)\u001b[0m\u001b[0;34m\u001b[0m\u001b[0;34m\u001b[0m\u001b[0m\n\u001b[1;32m     33\u001b[0m \u001b[0;34m\u001b[0m\u001b[0m\n",
      "\u001b[0;32m~/.cache/pypoetry/virtualenvs/cmvc-JewgZZ61-py3.7/lib/python3.7/site-packages/torch/nn/modules/module.py\u001b[0m in \u001b[0;36m_call_impl\u001b[0;34m(self, *input, **kwargs)\u001b[0m\n\u001b[1;32m    887\u001b[0m             \u001b[0mresult\u001b[0m \u001b[0;34m=\u001b[0m \u001b[0mself\u001b[0m\u001b[0;34m.\u001b[0m\u001b[0m_slow_forward\u001b[0m\u001b[0;34m(\u001b[0m\u001b[0;34m*\u001b[0m\u001b[0minput\u001b[0m\u001b[0;34m,\u001b[0m \u001b[0;34m**\u001b[0m\u001b[0mkwargs\u001b[0m\u001b[0;34m)\u001b[0m\u001b[0;34m\u001b[0m\u001b[0;34m\u001b[0m\u001b[0m\n\u001b[1;32m    888\u001b[0m         \u001b[0;32melse\u001b[0m\u001b[0;34m:\u001b[0m\u001b[0;34m\u001b[0m\u001b[0;34m\u001b[0m\u001b[0m\n\u001b[0;32m--> 889\u001b[0;31m             \u001b[0mresult\u001b[0m \u001b[0;34m=\u001b[0m \u001b[0mself\u001b[0m\u001b[0;34m.\u001b[0m\u001b[0mforward\u001b[0m\u001b[0;34m(\u001b[0m\u001b[0;34m*\u001b[0m\u001b[0minput\u001b[0m\u001b[0;34m,\u001b[0m \u001b[0;34m**\u001b[0m\u001b[0mkwargs\u001b[0m\u001b[0;34m)\u001b[0m\u001b[0;34m\u001b[0m\u001b[0;34m\u001b[0m\u001b[0m\n\u001b[0m\u001b[1;32m    890\u001b[0m         for hook in itertools.chain(\n\u001b[1;32m    891\u001b[0m                 \u001b[0m_global_forward_hooks\u001b[0m\u001b[0;34m.\u001b[0m\u001b[0mvalues\u001b[0m\u001b[0;34m(\u001b[0m\u001b[0;34m)\u001b[0m\u001b[0;34m,\u001b[0m\u001b[0;34m\u001b[0m\u001b[0;34m\u001b[0m\u001b[0m\n",
      "\u001b[0;32m~/.cache/pypoetry/virtualenvs/cmvc-JewgZZ61-py3.7/lib/python3.7/site-packages/torch/nn/modules/conv.py\u001b[0m in \u001b[0;36mforward\u001b[0;34m(self, input)\u001b[0m\n\u001b[1;32m    397\u001b[0m \u001b[0;34m\u001b[0m\u001b[0m\n\u001b[1;32m    398\u001b[0m     \u001b[0;32mdef\u001b[0m \u001b[0mforward\u001b[0m\u001b[0;34m(\u001b[0m\u001b[0mself\u001b[0m\u001b[0;34m,\u001b[0m \u001b[0minput\u001b[0m\u001b[0;34m:\u001b[0m \u001b[0mTensor\u001b[0m\u001b[0;34m)\u001b[0m \u001b[0;34m->\u001b[0m \u001b[0mTensor\u001b[0m\u001b[0;34m:\u001b[0m\u001b[0;34m\u001b[0m\u001b[0;34m\u001b[0m\u001b[0m\n\u001b[0;32m--> 399\u001b[0;31m         \u001b[0;32mreturn\u001b[0m \u001b[0mself\u001b[0m\u001b[0;34m.\u001b[0m\u001b[0m_conv_forward\u001b[0m\u001b[0;34m(\u001b[0m\u001b[0minput\u001b[0m\u001b[0;34m,\u001b[0m \u001b[0mself\u001b[0m\u001b[0;34m.\u001b[0m\u001b[0mweight\u001b[0m\u001b[0;34m,\u001b[0m \u001b[0mself\u001b[0m\u001b[0;34m.\u001b[0m\u001b[0mbias\u001b[0m\u001b[0;34m)\u001b[0m\u001b[0;34m\u001b[0m\u001b[0;34m\u001b[0m\u001b[0m\n\u001b[0m\u001b[1;32m    400\u001b[0m \u001b[0;34m\u001b[0m\u001b[0m\n\u001b[1;32m    401\u001b[0m \u001b[0;32mclass\u001b[0m \u001b[0mConv3d\u001b[0m\u001b[0;34m(\u001b[0m\u001b[0m_ConvNd\u001b[0m\u001b[0;34m)\u001b[0m\u001b[0;34m:\u001b[0m\u001b[0;34m\u001b[0m\u001b[0;34m\u001b[0m\u001b[0m\n",
      "\u001b[0;32m~/.cache/pypoetry/virtualenvs/cmvc-JewgZZ61-py3.7/lib/python3.7/site-packages/torch/nn/modules/conv.py\u001b[0m in \u001b[0;36m_conv_forward\u001b[0;34m(self, input, weight, bias)\u001b[0m\n\u001b[1;32m    394\u001b[0m                             _pair(0), self.dilation, self.groups)\n\u001b[1;32m    395\u001b[0m         return F.conv2d(input, weight, bias, self.stride,\n\u001b[0;32m--> 396\u001b[0;31m                         self.padding, self.dilation, self.groups)\n\u001b[0m\u001b[1;32m    397\u001b[0m \u001b[0;34m\u001b[0m\u001b[0m\n\u001b[1;32m    398\u001b[0m     \u001b[0;32mdef\u001b[0m \u001b[0mforward\u001b[0m\u001b[0;34m(\u001b[0m\u001b[0mself\u001b[0m\u001b[0;34m,\u001b[0m \u001b[0minput\u001b[0m\u001b[0;34m:\u001b[0m \u001b[0mTensor\u001b[0m\u001b[0;34m)\u001b[0m \u001b[0;34m->\u001b[0m \u001b[0mTensor\u001b[0m\u001b[0;34m:\u001b[0m\u001b[0;34m\u001b[0m\u001b[0;34m\u001b[0m\u001b[0m\n",
      "\u001b[0;31mRuntimeError\u001b[0m: cuDNN error: CUDNN_STATUS_INTERNAL_ERROR\nYou can try to repro this exception using the following code snippet. If that doesn't trigger the error, please include your original repro script when reporting this issue.\n\nimport torch\ntorch.backends.cuda.matmul.allow_tf32 = True\ntorch.backends.cudnn.benchmark = False\ntorch.backends.cudnn.deterministic = False\ntorch.backends.cudnn.allow_tf32 = True\ndata = torch.randn([2, 128, 1, 17], dtype=torch.float, device='cuda', requires_grad=True)\nnet = torch.nn.Conv2d(128, 64, kernel_size=[1, 5], padding=[0, 2], stride=[1, 1], dilation=[1, 1], groups=1)\nnet = net.cuda().float()\nout = net(data)\nout.backward(torch.randn_like(out))\ntorch.cuda.synchronize()\n\nConvolutionParams \n    data_type = CUDNN_DATA_FLOAT\n    padding = [0, 2, 0]\n    stride = [1, 1, 0]\n    dilation = [1, 1, 0]\n    groups = 1\n    deterministic = false\n    allow_tf32 = true\ninput: TensorDescriptor 0x560e3cbadca0\n    type = CUDNN_DATA_FLOAT\n    nbDims = 4\n    dimA = 2, 128, 1, 17, \n    strideA = 2176, 17, 17, 1, \noutput: TensorDescriptor 0x560e3cbaf530\n    type = CUDNN_DATA_FLOAT\n    nbDims = 4\n    dimA = 2, 64, 1, 17, \n    strideA = 1088, 17, 17, 1, \nweight: FilterDescriptor 0x560e3cbb16d0\n    type = CUDNN_DATA_FLOAT\n    tensor_format = CUDNN_TENSOR_NCHW\n    nbDims = 4\n    dimA = 64, 128, 1, 5, \nPointer addresses: \n    input: 0x7fd02c7e9800\n    output: 0x7fd02fbdde00\n    weight: 0x7fd038dd8000\nForward algorithm: 5\n"
     ]
    }
   ],
   "source": [
    "net.to(device)\n",
    "train_net(net, trainloader)"
   ]
  },
  {
   "cell_type": "code",
   "execution_count": null,
   "id": "07b37029-dc03-49cd-9ada-c841349e7b29",
   "metadata": {},
   "outputs": [],
   "source": [
    "import torch\n",
    "torch.backends.cuda.matmul.allow_tf32 = True\n",
    "torch.backends.cudnn.benchmark = False\n",
    "torch.backends.cudnn.deterministic = False\n",
    "torch.backends.cudnn.allow_tf32 = True\n",
    "data = torch.randn([4, 128, 1, 17], dtype=torch.float, device='cuda', requires_grad=True)\n",
    "net = torch.nn.Conv2d(128, 64, kernel_size=[1, 5], padding=[0, 2], stride=[1, 1], dilation=[1, 1], groups=1)\n",
    "net = net.cuda().float()\n",
    "out = net(data)\n",
    "out.backward(torch.randn_like(out))\n",
    "torch.cuda.synchronize()\n",
    "\"\"\"\n",
    "ConvolutionParams \n",
    "    data_type = CUDNN_DATA_FLOAT\n",
    "    padding = [0, 2, 0]\n",
    "    stride = [1, 1, 0]\n",
    "    dilation = [1, 1, 0]\n",
    "    groups = 1\n",
    "    deterministic = false\n",
    "    allow_tf32 = true\n",
    "input: TensorDescriptor 0x5571a089b470\n",
    "    type = CUDNN_DATA_FLOAT\n",
    "    nbDims = 4\n",
    "    dimA = 4, 128, 1, 17, \n",
    "    strideA = 2176, 17, 17, 1, \n",
    "output: TensorDescriptor 0x5571a089eef0\n",
    "    type = CUDNN_DATA_FLOAT\n",
    "    nbDims = 4\n",
    "    dimA = 4, 64, 1, 17, \n",
    "    strideA = 1088, 17, 17, 1, \n",
    "weight: FilterDescriptor 0x5571a089d600\n",
    "    type = CUDNN_DATA_FLOAT\n",
    "    tensor_format = CUDNN_TENSOR_NCHW\n",
    "    nbDims = 4\n",
    "    dimA = 64, 128, 1, 5, \n",
    "Pointer addresses: \n",
    "    input: 0x7f5200bf4000\n",
    "    output: 0x7f52001bbc00\n",
    "    weight: 0x7f5291fcc400\n",
    "Forward algorithm: 5\n",
    "\"\"\""
   ]
  },
  {
   "cell_type": "code",
   "execution_count": null,
   "id": "9cc8d1b7-867d-4ee5-8c45-464154e7deec",
   "metadata": {},
   "outputs": [],
   "source": []
  }
 ],
 "metadata": {
  "kernelspec": {
   "display_name": "Python 3",
   "language": "python",
   "name": "python3"
  },
  "language_info": {
   "codemirror_mode": {
    "name": "ipython",
    "version": 3
   },
   "file_extension": ".py",
   "mimetype": "text/x-python",
   "name": "python",
   "nbconvert_exporter": "python",
   "pygments_lexer": "ipython3",
   "version": "3.7.10"
  }
 },
 "nbformat": 4,
 "nbformat_minor": 5
}
