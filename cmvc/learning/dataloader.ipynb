{
 "cells": [
  {
   "cell_type": "code",
   "execution_count": 1,
   "id": "801cad9a-4958-49a3-95fd-09afb1fd391b",
   "metadata": {},
   "outputs": [],
   "source": [
    "import toml\n",
    "import os\n",
    "import pandas as pd\n",
    "import cv2"
   ]
  },
  {
   "cell_type": "code",
   "execution_count": 2,
   "id": "c411eaac-9518-48bf-97c2-acb2eee672ac",
   "metadata": {},
   "outputs": [
    {
     "ename": "FileNotFoundError",
     "evalue": "[Errno 2] No such file or directory: '../config.toml'",
     "output_type": "error",
     "traceback": [
      "\u001b[0;31m---------------------------------------------------------------------------\u001b[0m",
      "\u001b[0;31mFileNotFoundError\u001b[0m                         Traceback (most recent call last)",
      "\u001b[0;32m<ipython-input-2-ddcb9bb95637>\u001b[0m in \u001b[0;36m<module>\u001b[0;34m\u001b[0m\n\u001b[0;32m----> 1\u001b[0;31m \u001b[0mdict_toml\u001b[0m \u001b[0;34m=\u001b[0m \u001b[0mtoml\u001b[0m\u001b[0;34m.\u001b[0m\u001b[0mload\u001b[0m\u001b[0;34m(\u001b[0m\u001b[0mopen\u001b[0m\u001b[0;34m(\u001b[0m\u001b[0;34m'../config.toml'\u001b[0m\u001b[0;34m)\u001b[0m\u001b[0;34m)\u001b[0m\u001b[0;34m\u001b[0m\u001b[0;34m\u001b[0m\u001b[0m\n\u001b[0m",
      "\u001b[0;31mFileNotFoundError\u001b[0m: [Errno 2] No such file or directory: '../config.toml'"
     ]
    }
   ],
   "source": [
    "dict_toml = toml.load(open('../config.toml'))"
   ]
  },
  {
   "cell_type": "code",
   "execution_count": 3,
   "id": "3a9fa17e-a7e0-4b5f-a2bb-749c9c8c99fc",
   "metadata": {},
   "outputs": [
    {
     "ename": "NameError",
     "evalue": "name 'dict_toml' is not defined",
     "output_type": "error",
     "traceback": [
      "\u001b[0;31m---------------------------------------------------------------------------\u001b[0m",
      "\u001b[0;31mNameError\u001b[0m                                 Traceback (most recent call last)",
      "\u001b[0;32m<ipython-input-3-d6b794c4ca6b>\u001b[0m in \u001b[0;36m<module>\u001b[0;34m\u001b[0m\n\u001b[0;32m----> 1\u001b[0;31m \u001b[0mimage_path\u001b[0m \u001b[0;34m=\u001b[0m \u001b[0mdict_toml\u001b[0m\u001b[0;34m[\u001b[0m\u001b[0;34m\"path\"\u001b[0m\u001b[0;34m]\u001b[0m\u001b[0;34m[\u001b[0m\u001b[0;34m\"dataset\"\u001b[0m\u001b[0;34m]\u001b[0m\u001b[0;34m[\u001b[0m\u001b[0;34m\"image\"\u001b[0m\u001b[0;34m]\u001b[0m\u001b[0;34m\u001b[0m\u001b[0;34m\u001b[0m\u001b[0m\n\u001b[0m",
      "\u001b[0;31mNameError\u001b[0m: name 'dict_toml' is not defined"
     ]
    }
   ],
   "source": [
    "image_path = dict_toml[\"path\"][\"dataset\"][\"image\"]"
   ]
  },
  {
   "cell_type": "code",
   "execution_count": 9,
   "id": "636614fb-c6cc-4c79-9724-a371d0fa3094",
   "metadata": {},
   "outputs": [],
   "source": [
    "image_df = pd.read_table(\"../../list_attr_celeba.txt\", header=0,sep=\" \", index_col=0)"
   ]
  },
  {
   "cell_type": "code",
   "execution_count": 192,
   "id": "ecc7da5e-adea-4142-a785-5ddb65466751",
   "metadata": {},
   "outputs": [
    {
     "data": {
      "text/plain": [
       "-1"
      ]
     },
     "execution_count": 192,
     "metadata": {},
     "output_type": "execute_result"
    }
   ],
   "source": [
    "image_df[\"Male\"][\"000001.jpg\"]"
   ]
  },
  {
   "cell_type": "code",
   "execution_count": 11,
   "id": "3046071a-ef7d-4f0c-ba10-b3eb86a8c64f",
   "metadata": {},
   "outputs": [],
   "source": [
    "f = open('../not_detected.txt', 'r')\n",
    "\n",
    "datalist = f.read().splitlines()\n",
    "f.close()"
   ]
  },
  {
   "cell_type": "code",
   "execution_count": 12,
   "id": "95872457-8daa-44f9-9c71-476b169b4331",
   "metadata": {},
   "outputs": [],
   "source": [
    "data = [not i in datalist for i in image_df.index]"
   ]
  },
  {
   "cell_type": "code",
   "execution_count": 13,
   "id": "ef0b170b-721c-41ea-89e2-f1a17948c6aa",
   "metadata": {},
   "outputs": [
    {
     "data": {
      "text/plain": [
       "000001.jpg   -1\n",
       "000002.jpg   -1\n",
       "000003.jpg    1\n",
       "000005.jpg   -1\n",
       "000007.jpg    1\n",
       "             ..\n",
       "202595.jpg   -1\n",
       "202596.jpg    1\n",
       "202597.jpg    1\n",
       "202598.jpg   -1\n",
       "202599.jpg   -1\n",
       "Name: Male, Length: 182367, dtype: int64"
      ]
     },
     "execution_count": 13,
     "metadata": {},
     "output_type": "execute_result"
    }
   ],
   "source": [
    "image_df[data][\"Male\"]"
   ]
  },
  {
   "cell_type": "code",
   "execution_count": 4,
   "id": "b86dceab-b1a2-4d6e-a7c9-1da256d29d2a",
   "metadata": {},
   "outputs": [
    {
     "ename": "FileNotFoundError",
     "evalue": "[Errno 2] No such file or directory: '../../voice/train/F/'",
     "output_type": "error",
     "traceback": [
      "\u001b[0;31m---------------------------------------------------------------------------\u001b[0m",
      "\u001b[0;31mFileNotFoundError\u001b[0m                         Traceback (most recent call last)",
      "\u001b[0;32m<ipython-input-4-0e8627a31773>\u001b[0m in \u001b[0;36m<module>\u001b[0;34m\u001b[0m\n\u001b[0;32m----> 1\u001b[0;31m \u001b[0mos\u001b[0m\u001b[0;34m.\u001b[0m\u001b[0mlistdir\u001b[0m\u001b[0;34m(\u001b[0m\u001b[0;34m\"../../voice/train/F/\"\u001b[0m\u001b[0;34m)\u001b[0m\u001b[0;34m\u001b[0m\u001b[0;34m\u001b[0m\u001b[0m\n\u001b[0m",
      "\u001b[0;31mFileNotFoundError\u001b[0m: [Errno 2] No such file or directory: '../../voice/train/F/'"
     ]
    }
   ],
   "source": [
    "os.listdir(\"../../voice/train/F/\")"
   ]
  },
  {
   "cell_type": "code",
   "execution_count": null,
   "id": "688fcb6c-197d-4bea-ad79-f1ca11794566",
   "metadata": {},
   "outputs": [],
   "source": [
    "for i in os.listdir(\"../../voice/train/F/VCC2SF1\"):\n",
    "    a = pd.read_pickle(\"../../voice/train/F/VCC2SF1/\"+i)\n",
    "    print(a.shape)"
   ]
  },
  {
   "cell_type": "markdown",
   "id": "6559b925-a02f-4469-ab6b-99b8dd27db4e",
   "metadata": {},
   "source": [
    "# dataloader"
   ]
  },
  {
   "cell_type": "markdown",
   "id": "7c795306-86ad-4bf3-9b2a-4f14e5b371f2",
   "metadata": {},
   "source": [
    "## transform"
   ]
  },
  {
   "cell_type": "markdown",
   "id": "93d6e2ba-a5ee-4f89-a1d6-5c980465b8e2",
   "metadata": {},
   "source": [
    "### voice"
   ]
  },
  {
   "cell_type": "code",
   "execution_count": 155,
   "id": "0640eaf0-537c-4509-bcc0-0a1f36b638e4",
   "metadata": {},
   "outputs": [],
   "source": [
    "class VoiceTrans(object):\n",
    "    def __init__(self, maxi, mini):\n",
    "        self.maxi = maxi\n",
    "        self.mini = mini\n",
    "\n",
    "    def norm_voice(self, array):\n",
    "        array -= self.mini\n",
    "        array /= self.maxi\n",
    "    \n",
    "        return array\n",
    "    \n",
    "    def cut(self, voice):\n",
    "        return voice[:, :voice.shape[1]-voice.shape[1]%4]\n",
    "    \n",
    "    def __call__(self, sample):\n",
    "        \n",
    "        return self.cut(self.norm_voice(sample))"
   ]
  },
  {
   "cell_type": "code",
   "execution_count": 15,
   "id": "055b26da-92ba-4455-b4eb-06c825e6c29e",
   "metadata": {},
   "outputs": [],
   "source": [
    "voice = pd.read_pickle(\"../../voice/train/VCC2SF1/10001.pkl\")"
   ]
  },
  {
   "cell_type": "code",
   "execution_count": 16,
   "id": "b5c47ec5-a1a0-4725-9df1-a5302738bad6",
   "metadata": {},
   "outputs": [
    {
     "data": {
      "text/plain": [
       "(36, 264)"
      ]
     },
     "execution_count": 16,
     "metadata": {},
     "output_type": "execute_result"
    }
   ],
   "source": [
    "t = VoiceTrans()\n",
    "t(voice).shape"
   ]
  },
  {
   "cell_type": "markdown",
   "id": "18941a2d-d88a-4511-8b4c-298969d9f610",
   "metadata": {},
   "source": [
    "### image"
   ]
  },
  {
   "cell_type": "code",
   "execution_count": 21,
   "id": "c01de658-f8c1-4293-865c-3c10f53d1fe9",
   "metadata": {},
   "outputs": [],
   "source": [
    "class ImageTrans(object):\n",
    "    def __init__(self):\n",
    "        pass\n",
    "\n",
    "    def norm_image(self, array):\n",
    "        return array/255\n",
    "    \n",
    "    def __call__(self, sample):\n",
    "        \n",
    "        return self.norm_image(sample).T"
   ]
  },
  {
   "cell_type": "code",
   "execution_count": 22,
   "id": "6a55e234-e9a3-43dc-8635-896d425154c4",
   "metadata": {},
   "outputs": [],
   "source": [
    "image = cv2.imread(\"../../image/000001.jpg\")"
   ]
  },
  {
   "cell_type": "code",
   "execution_count": 23,
   "id": "84b10a77-6ac1-4c72-afbc-10be463b76e3",
   "metadata": {},
   "outputs": [
    {
     "data": {
      "text/plain": [
       "(3, 32, 32)"
      ]
     },
     "execution_count": 23,
     "metadata": {},
     "output_type": "execute_result"
    }
   ],
   "source": [
    "a = ImageTrans()\n",
    "a(image).shape"
   ]
  },
  {
   "cell_type": "markdown",
   "id": "489c3070-f124-427e-981d-1695aca21004",
   "metadata": {},
   "source": [
    "# dataset"
   ]
  },
  {
   "cell_type": "code",
   "execution_count": 121,
   "id": "15041124-e78c-4218-91ee-a57a85620030",
   "metadata": {},
   "outputs": [],
   "source": [
    "import pathlib\n",
    "import itertools\n",
    "import pandas as pd\n",
    "import numpy as np\n",
    "import torch"
   ]
  },
  {
   "cell_type": "markdown",
   "id": "fb699db3-e2f8-4bf7-bc0c-eef71942d632",
   "metadata": {},
   "source": [
    "### voice"
   ]
  },
  {
   "cell_type": "code",
   "execution_count": 168,
   "id": "13a47ca6-8f6a-459d-a61e-58ac1eee4c8f",
   "metadata": {},
   "outputs": [],
   "source": [
    "class VoiceDataset(torch.utils.data.Dataset):\n",
    "    def __init__(self, path, train, trans):\n",
    "        p = pathlib.Path(path)\n",
    "        \n",
    "        if train:\n",
    "            self.path = p / \"train\"\n",
    "        else:\n",
    "            self.path = p / \"eval\"\n",
    "        \n",
    "        self.trans = trans\n",
    "        \n",
    "        \n",
    "        self.dir = [i for i in self.path.iterdir() if i.is_dir()]       \n",
    "        self.file = list(itertools.chain.from_iterable([[j for j in i.iterdir()] for i in self.dir]))\n",
    "        \n",
    "        self.data = [pd.read_pickle(i) for i in self.file]\n",
    "        self.label = [1 if \"M\" == str(i.parent)[-2] else -1 for i in self.file]\n",
    "    \n",
    "        self.datanum = len(self.data)\n",
    "    \n",
    "    def __len__(self):\n",
    "        return self.datanum\n",
    "\n",
    "    def __getitem__(self, idx):\n",
    "        out_data = self.data[idx]\n",
    "        out_label = self.label[idx]\n",
    "\n",
    "        if self.trans:\n",
    "            k = np.concatenate(c.data,axis=1)\n",
    "            maxi = k.max()\n",
    "            mini = k.min()\n",
    "            self.transform = VoiceTrans(maxi, mini)\n",
    "            \n",
    "            out_data = self.transform(out_data)\n",
    "\n",
    "        return out_data, out_label"
   ]
  },
  {
   "cell_type": "code",
   "execution_count": 169,
   "id": "dee5a9d0-3cda-4a84-9570-e3ccfb749f4f",
   "metadata": {},
   "outputs": [],
   "source": [
    "c = VoiceDataset(path=\"../../voice\", train=1, trans=1)"
   ]
  },
  {
   "cell_type": "code",
   "execution_count": null,
   "id": "a2b5c5c3-1bb3-4b70-bc7b-6387be798b83",
   "metadata": {},
   "outputs": [],
   "source": [
    "c"
   ]
  },
  {
   "cell_type": "markdown",
   "id": "ee3579e2-9773-4540-aeb8-c96556e2a5d1",
   "metadata": {},
   "source": [
    "### face"
   ]
  },
  {
   "cell_type": "code",
   "execution_count": 237,
   "id": "fbce392a-2dfb-4dc7-adf7-7b57a2970956",
   "metadata": {},
   "outputs": [],
   "source": [
    "class ImageDataset(torch.utils.data.Dataset):\n",
    "    def __init__(self, path, trans):\n",
    "        p = pathlib.Path(path)\n",
    "        if trans:\n",
    "            self.transform = ImageTrans()\n",
    "        \n",
    "        self.dir = p\n",
    "        self.file = [i for i in self.dir.iterdir() if i.suffix == \".jpg\"]\n",
    "        \n",
    "        \n",
    "        self.data = [cv2.imread(str(i)) for i in self.file]\n",
    "        \n",
    "        image_df = pd.read_table(\"../../list_attr_celeba.txt\", header=0,sep=\" \", index_col=0)\n",
    "        self.label = [image_df[\"Male\"][i.name] for i  in self.file]\n",
    "        \"\"\"\n",
    "        for i in self.file:\n",
    "            try:\n",
    "                image_df[\"Male\"][i.name]\n",
    "            except:\n",
    "                print(i.name)\n",
    "        \"\"\"     \n",
    "                \n",
    "        \n",
    "        self.datanum = len(self.data)\n",
    "    \n",
    "    def __len__(self):\n",
    "        return self.datanum\n",
    "\n",
    "    def __getitem__(self, idx):\n",
    "        out_data = self.data[idx]\n",
    "        out_label = self.label[idx]\n",
    "\n",
    "        if self.transform:\n",
    "            \n",
    "            out_data = self.transform(out_data)\n",
    "\n",
    "        return out_data, out_label"
   ]
  },
  {
   "cell_type": "code",
   "execution_count": 238,
   "id": "300c42f9-6844-4123-b2bd-042eb9befde0",
   "metadata": {},
   "outputs": [],
   "source": [
    "f = ImageDataset(\"../../image\", trans=1)"
   ]
  },
  {
   "cell_type": "markdown",
   "id": "69b03b0f-60ca-4218-bcfa-09c5b94ead73",
   "metadata": {},
   "source": [
    "## dataloader"
   ]
  },
  {
   "cell_type": "code",
   "execution_count": 241,
   "id": "4dddd53a-c25b-4761-92fa-ba819f45d89b",
   "metadata": {},
   "outputs": [],
   "source": [
    "trainloader = torch.utils.data.DataLoader(f, batch_size = 10, shuffle = False, num_workers = 2)"
   ]
  },
  {
   "cell_type": "code",
   "execution_count": 242,
   "id": "d2b4f659-abed-4390-b473-95b183510c5a",
   "metadata": {},
   "outputs": [
    {
     "name": "stdout",
     "output_type": "stream",
     "text": [
      "tensor([[[[0.0039, 0.0157, 0.0039,  ..., 0.0431, 0.0471, 0.0078],\n",
      "          [0.0196, 0.0039, 0.0000,  ..., 0.0431, 0.0235, 0.0196],\n",
      "          [0.0039, 0.0078, 0.0157,  ..., 0.0392, 0.0196, 0.0275],\n",
      "          ...,\n",
      "          [0.1843, 0.1882, 0.0980,  ..., 0.0549, 0.0353, 0.0235],\n",
      "          [0.1922, 0.2118, 0.1490,  ..., 0.1412, 0.0510, 0.0431],\n",
      "          [0.1843, 0.2627, 0.1843,  ..., 0.1765, 0.0549, 0.0667]],\n",
      "\n",
      "         [[0.0000, 0.0157, 0.0039,  ..., 0.0235, 0.0431, 0.0118],\n",
      "          [0.0196, 0.0039, 0.0039,  ..., 0.0235, 0.0196, 0.0196],\n",
      "          [0.0078, 0.0078, 0.0157,  ..., 0.0157, 0.0039, 0.0118],\n",
      "          ...,\n",
      "          [0.1961, 0.2118, 0.1255,  ..., 0.0235, 0.0078, 0.0039],\n",
      "          [0.2118, 0.2353, 0.1922,  ..., 0.1529, 0.0588, 0.0549],\n",
      "          [0.2000, 0.2902, 0.2275,  ..., 0.2078, 0.0863, 0.0941]],\n",
      "\n",
      "         [[0.0431, 0.0706, 0.0667,  ..., 0.1294, 0.0784, 0.0039],\n",
      "          [0.0667, 0.0510, 0.0588,  ..., 0.1294, 0.0549, 0.0196],\n",
      "          [0.0471, 0.0549, 0.0627,  ..., 0.1059, 0.0471, 0.0314],\n",
      "          ...,\n",
      "          [0.2275, 0.2314, 0.1373,  ..., 0.0275, 0.0353, 0.0392],\n",
      "          [0.2471, 0.2627, 0.2078,  ..., 0.1725, 0.1020, 0.1098],\n",
      "          [0.2431, 0.3255, 0.2431,  ..., 0.2353, 0.1373, 0.1529]]],\n",
      "\n",
      "\n",
      "        [[[0.0039, 0.0039, 0.0078,  ..., 0.9804, 0.9765, 0.9843],\n",
      "          [0.0039, 0.0039, 0.0039,  ..., 0.9843, 0.9647, 0.9804],\n",
      "          [0.0039, 0.0039, 0.0039,  ..., 0.8902, 0.9020, 0.9725],\n",
      "          ...,\n",
      "          [0.0000, 0.0000, 0.0000,  ..., 0.0314, 0.2471, 0.4118],\n",
      "          [0.0000, 0.0235, 0.1098,  ..., 0.8706, 0.0078, 0.0784],\n",
      "          [0.1020, 0.0941, 0.0235,  ..., 0.9373, 0.8392, 0.8118]],\n",
      "\n",
      "         [[0.0078, 0.0078, 0.0118,  ..., 0.9804, 0.9725, 0.9765],\n",
      "          [0.0078, 0.0078, 0.0078,  ..., 0.9961, 0.9725, 0.9804],\n",
      "          [0.0039, 0.0039, 0.0039,  ..., 0.9255, 0.9216, 0.9882],\n",
      "          ...,\n",
      "          [0.0039, 0.0078, 0.0000,  ..., 0.0902, 0.3216, 0.4941],\n",
      "          [0.0118, 0.0353, 0.1255,  ..., 0.8784, 0.0431, 0.1176],\n",
      "          [0.1137, 0.1059, 0.0392,  ..., 0.9255, 0.8510, 0.8353]],\n",
      "\n",
      "         [[0.0000, 0.0000, 0.0039,  ..., 1.0000, 0.9804, 0.9765],\n",
      "          [0.0000, 0.0000, 0.0000,  ..., 1.0000, 0.9765, 0.9804],\n",
      "          [0.0039, 0.0039, 0.0039,  ..., 0.9412, 0.9255, 0.9922],\n",
      "          ...,\n",
      "          [0.0078, 0.0118, 0.0039,  ..., 0.1529, 0.3804, 0.5529],\n",
      "          [0.0275, 0.0510, 0.1294,  ..., 0.9216, 0.0824, 0.1569],\n",
      "          [0.1294, 0.1216, 0.0431,  ..., 0.9608, 0.8824, 0.8627]]],\n",
      "\n",
      "\n",
      "        [[[0.8039, 0.7843, 0.7765,  ..., 0.4235, 0.4824, 0.5059],\n",
      "          [0.7961, 0.7922, 0.7647,  ..., 0.4275, 0.4980, 0.4941],\n",
      "          [0.7922, 0.7686, 0.7725,  ..., 0.3882, 0.4549, 0.4471],\n",
      "          ...,\n",
      "          [0.8941, 0.8941, 0.7882,  ..., 0.1961, 0.1961, 0.3373],\n",
      "          [0.8941, 0.8627, 0.8706,  ..., 0.1804, 0.1412, 0.1569],\n",
      "          [0.8824, 0.8824, 0.8706,  ..., 0.1922, 0.1922, 0.1765]],\n",
      "\n",
      "         [[0.8039, 0.7843, 0.7804,  ..., 0.5137, 0.5686, 0.5961],\n",
      "          [0.7961, 0.8000, 0.7804,  ..., 0.5098, 0.5882, 0.5882],\n",
      "          [0.8000, 0.7765, 0.7882,  ..., 0.4745, 0.5490, 0.5333],\n",
      "          ...,\n",
      "          [0.8863, 0.8980, 0.7961,  ..., 0.2353, 0.2706, 0.4275],\n",
      "          [0.9098, 0.8784, 0.8902,  ..., 0.1686, 0.1451, 0.1647],\n",
      "          [0.9020, 0.9020, 0.8941,  ..., 0.1529, 0.1647, 0.1490]],\n",
      "\n",
      "         [[0.7804, 0.7608, 0.7647,  ..., 0.6157, 0.6667, 0.6824],\n",
      "          [0.7725, 0.7765, 0.7608,  ..., 0.6314, 0.6902, 0.6824],\n",
      "          [0.7765, 0.7529, 0.7647,  ..., 0.6157, 0.6667, 0.6431],\n",
      "          ...,\n",
      "          [0.8549, 0.8627, 0.7725,  ..., 0.3059, 0.3529, 0.5137],\n",
      "          [0.8902, 0.8588, 0.8824,  ..., 0.2039, 0.1843, 0.2039],\n",
      "          [0.8941, 0.8941, 0.8902,  ..., 0.1765, 0.1765, 0.1608]]],\n",
      "\n",
      "\n",
      "        ...,\n",
      "\n",
      "\n",
      "        [[[0.4863, 0.4863, 0.5020,  ..., 0.5882, 0.5451, 0.7098],\n",
      "          [0.4706, 0.4588, 0.4824,  ..., 0.4745, 0.5255, 0.7098],\n",
      "          [0.4863, 0.5020, 0.5098,  ..., 0.5490, 0.6510, 0.5725],\n",
      "          ...,\n",
      "          [0.5843, 0.5725, 0.5725,  ..., 0.5137, 0.4314, 0.5569],\n",
      "          [0.5961, 0.5961, 0.6039,  ..., 0.6078, 0.4784, 0.5882],\n",
      "          [0.6078, 0.6039, 0.6000,  ..., 0.6706, 0.4431, 0.6118]],\n",
      "\n",
      "         [[0.5216, 0.5176, 0.5294,  ..., 0.5843, 0.5137, 0.6706],\n",
      "          [0.4980, 0.4824, 0.5020,  ..., 0.4824, 0.5216, 0.6941],\n",
      "          [0.4902, 0.5059, 0.5137,  ..., 0.5804, 0.6745, 0.5922],\n",
      "          ...,\n",
      "          [0.5451, 0.5294, 0.5294,  ..., 0.5098, 0.4196, 0.5373],\n",
      "          [0.5373, 0.5373, 0.5490,  ..., 0.5765, 0.4314, 0.5294],\n",
      "          [0.5412, 0.5412, 0.5412,  ..., 0.6275, 0.3843, 0.5451]],\n",
      "\n",
      "         [[0.6000, 0.6078, 0.6275,  ..., 0.6196, 0.5569, 0.7176],\n",
      "          [0.5765, 0.5725, 0.6000,  ..., 0.5216, 0.5608, 0.7373],\n",
      "          [0.5922, 0.6078, 0.6157,  ..., 0.6314, 0.7176, 0.6275],\n",
      "          ...,\n",
      "          [0.6627, 0.6549, 0.6588,  ..., 0.4941, 0.3882, 0.5020],\n",
      "          [0.6627, 0.6588, 0.6588,  ..., 0.5804, 0.4235, 0.5176],\n",
      "          [0.6706, 0.6627, 0.6471,  ..., 0.6392, 0.3765, 0.5333]]],\n",
      "\n",
      "\n",
      "        [[[0.0510, 0.0588, 0.0196,  ..., 0.0510, 0.0392, 0.0431],\n",
      "          [0.0392, 0.0157, 0.0314,  ..., 0.1255, 0.0235, 0.0392],\n",
      "          [0.0000, 0.0196, 0.0078,  ..., 0.0627, 0.0510, 0.0471],\n",
      "          ...,\n",
      "          [0.0824, 0.0471, 0.0000,  ..., 0.0471, 0.0000, 0.0118],\n",
      "          [0.0784, 0.0118, 0.0000,  ..., 0.1020, 0.0627, 0.0353],\n",
      "          [0.0196, 0.0000, 0.0275,  ..., 0.0431, 0.0824, 0.0510]],\n",
      "\n",
      "         [[0.0353, 0.0431, 0.0157,  ..., 0.0667, 0.0549, 0.0549],\n",
      "          [0.0471, 0.0196, 0.0314,  ..., 0.1529, 0.0471, 0.0588],\n",
      "          [0.0353, 0.0549, 0.0314,  ..., 0.0980, 0.0784, 0.0745],\n",
      "          ...,\n",
      "          [0.0902, 0.0588, 0.0314,  ..., 0.0706, 0.0314, 0.0471],\n",
      "          [0.0824, 0.0157, 0.0078,  ..., 0.1451, 0.1176, 0.0863],\n",
      "          [0.0275, 0.0000, 0.0275,  ..., 0.0980, 0.1451, 0.1216]],\n",
      "\n",
      "         [[0.0588, 0.0863, 0.0784,  ..., 0.1373, 0.0980, 0.0863],\n",
      "          [0.0784, 0.0588, 0.0941,  ..., 0.2118, 0.0902, 0.0941],\n",
      "          [0.0745, 0.0941, 0.0745,  ..., 0.1529, 0.1373, 0.1333],\n",
      "          ...,\n",
      "          [0.6980, 0.5608, 0.3059,  ..., 0.1137, 0.0824, 0.0980],\n",
      "          [0.5216, 0.3686, 0.1961,  ..., 0.2235, 0.2078, 0.1882],\n",
      "          [0.3725, 0.2471, 0.1686,  ..., 0.1882, 0.2588, 0.2431]]],\n",
      "\n",
      "\n",
      "        [[[0.6706, 0.6392, 0.6667,  ..., 0.9569, 0.4196, 0.3216],\n",
      "          [0.8863, 0.6824, 0.6392,  ..., 0.9333, 0.3765, 0.2980],\n",
      "          [1.0000, 0.9686, 0.6745,  ..., 0.8706, 0.3451, 0.2980],\n",
      "          ...,\n",
      "          [0.9725, 0.9373, 0.3961,  ..., 0.0353, 0.0000, 0.1529],\n",
      "          [0.9725, 0.9922, 1.0000,  ..., 0.1961, 0.0549, 0.0000],\n",
      "          [0.9961, 1.0000, 0.9882,  ..., 0.1098, 0.2824, 0.0000]],\n",
      "\n",
      "         [[0.3725, 0.3451, 0.3647,  ..., 0.8980, 0.4667, 0.4235],\n",
      "          [0.6196, 0.4118, 0.3608,  ..., 0.8863, 0.4275, 0.4039],\n",
      "          [0.8275, 0.7608, 0.4235,  ..., 0.8431, 0.4039, 0.3961],\n",
      "          ...,\n",
      "          [0.9176, 0.8784, 0.3098,  ..., 0.0431, 0.0000, 0.1765],\n",
      "          [0.9020, 0.9098, 0.8941,  ..., 0.2118, 0.0824, 0.0000],\n",
      "          [0.9216, 0.9176, 0.8627,  ..., 0.1333, 0.3176, 0.0314]],\n",
      "\n",
      "         [[0.9529, 0.9176, 0.9333,  ..., 0.8902, 0.6235, 0.6588],\n",
      "          [1.0000, 0.8863, 0.8588,  ..., 0.9098, 0.6000, 0.6549],\n",
      "          [1.0000, 1.0000, 0.8118,  ..., 0.9255, 0.6235, 0.6784],\n",
      "          ...,\n",
      "          [0.9333, 0.8941, 0.3294,  ..., 0.1608, 0.1255, 0.3137],\n",
      "          [0.8980, 0.9020, 0.8745,  ..., 0.3490, 0.2353, 0.1451],\n",
      "          [0.9020, 0.8941, 0.8196,  ..., 0.2784, 0.4863, 0.2039]]]],\n",
      "       dtype=torch.float64)\n",
      "tensor([ 1, -1, -1,  1,  1, -1, -1, -1, -1, -1])\n"
     ]
    }
   ],
   "source": [
    "for data,label in trainloader:\n",
    "    break\n",
    "print(data)\n",
    "print(label)"
   ]
  }
 ],
 "metadata": {
  "kernelspec": {
   "display_name": "Python 3",
   "language": "python",
   "name": "python3"
  },
  "language_info": {
   "codemirror_mode": {
    "name": "ipython",
    "version": 3
   },
   "file_extension": ".py",
   "mimetype": "text/x-python",
   "name": "python",
   "nbconvert_exporter": "python",
   "pygments_lexer": "ipython3",
   "version": "3.7.10"
  }
 },
 "nbformat": 4,
 "nbformat_minor": 5
}
