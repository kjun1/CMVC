{
 "cells": [
  {
   "cell_type": "code",
   "execution_count": 1,
   "id": "801cad9a-4958-49a3-95fd-09afb1fd391b",
   "metadata": {},
   "outputs": [],
   "source": [
    "import toml\n",
    "import os\n",
    "import pandas as pd\n",
    "import cv2"
   ]
  },
  {
   "cell_type": "code",
   "execution_count": 2,
   "id": "c411eaac-9518-48bf-97c2-acb2eee672ac",
   "metadata": {},
   "outputs": [],
   "source": [
    "dict_toml = toml.load(open('../config.toml'))"
   ]
  },
  {
   "cell_type": "code",
   "execution_count": 3,
   "id": "3a9fa17e-a7e0-4b5f-a2bb-749c9c8c99fc",
   "metadata": {},
   "outputs": [],
   "source": [
    "image_path = dict_toml[\"path\"][\"dataset\"][\"image\"]"
   ]
  },
  {
   "cell_type": "code",
   "execution_count": 4,
   "id": "636614fb-c6cc-4c79-9724-a371d0fa3094",
   "metadata": {},
   "outputs": [],
   "source": [
    "image_df = pd.read_table(\"../../list_attr_celeba.txt\", header=0,sep=\" \", index_col=0)"
   ]
  },
  {
   "cell_type": "code",
   "execution_count": 5,
   "id": "ecc7da5e-adea-4142-a785-5ddb65466751",
   "metadata": {},
   "outputs": [
    {
     "data": {
      "text/plain": [
       "-1"
      ]
     },
     "execution_count": 5,
     "metadata": {},
     "output_type": "execute_result"
    }
   ],
   "source": [
    "image_df[\"Male\"][\"000001.jpg\"]"
   ]
  },
  {
   "cell_type": "code",
   "execution_count": 6,
   "id": "3046071a-ef7d-4f0c-ba10-b3eb86a8c64f",
   "metadata": {},
   "outputs": [],
   "source": [
    "f = open('../not_detected.txt', 'r')\n",
    "\n",
    "datalist = f.read().splitlines()\n",
    "f.close()"
   ]
  },
  {
   "cell_type": "code",
   "execution_count": 7,
   "id": "95872457-8daa-44f9-9c71-476b169b4331",
   "metadata": {},
   "outputs": [],
   "source": [
    "data = [not i in datalist for i in image_df.index]"
   ]
  },
  {
   "cell_type": "code",
   "execution_count": 8,
   "id": "ef0b170b-721c-41ea-89e2-f1a17948c6aa",
   "metadata": {},
   "outputs": [
    {
     "data": {
      "text/plain": [
       "000001.jpg   -1\n",
       "000002.jpg   -1\n",
       "000003.jpg    1\n",
       "000005.jpg   -1\n",
       "000007.jpg    1\n",
       "             ..\n",
       "202595.jpg   -1\n",
       "202596.jpg    1\n",
       "202597.jpg    1\n",
       "202598.jpg   -1\n",
       "202599.jpg   -1\n",
       "Name: Male, Length: 182367, dtype: int64"
      ]
     },
     "execution_count": 8,
     "metadata": {},
     "output_type": "execute_result"
    }
   ],
   "source": [
    "image_df[data][\"Male\"]"
   ]
  },
  {
   "cell_type": "code",
   "execution_count": 9,
   "id": "b86dceab-b1a2-4d6e-a7c9-1da256d29d2a",
   "metadata": {},
   "outputs": [],
   "source": [
    "#os.listdir(\"../../voice/train/F/\")"
   ]
  },
  {
   "cell_type": "code",
   "execution_count": 10,
   "id": "688fcb6c-197d-4bea-ad79-f1ca11794566",
   "metadata": {},
   "outputs": [
    {
     "ename": "FileNotFoundError",
     "evalue": "[Errno 2] No such file or directory: '../../voice/train/F/VCC2SF1'",
     "output_type": "error",
     "traceback": [
      "\u001b[0;31m---------------------------------------------------------------------------\u001b[0m",
      "\u001b[0;31mFileNotFoundError\u001b[0m                         Traceback (most recent call last)",
      "\u001b[0;32m<ipython-input-10-c2a037100407>\u001b[0m in \u001b[0;36m<module>\u001b[0;34m\u001b[0m\n\u001b[0;32m----> 1\u001b[0;31m \u001b[0;32mfor\u001b[0m \u001b[0mi\u001b[0m \u001b[0;32min\u001b[0m \u001b[0mos\u001b[0m\u001b[0;34m.\u001b[0m\u001b[0mlistdir\u001b[0m\u001b[0;34m(\u001b[0m\u001b[0;34m\"../../voice/train/F/VCC2SF1\"\u001b[0m\u001b[0;34m)\u001b[0m\u001b[0;34m:\u001b[0m\u001b[0;34m\u001b[0m\u001b[0;34m\u001b[0m\u001b[0m\n\u001b[0m\u001b[1;32m      2\u001b[0m     \u001b[0ma\u001b[0m \u001b[0;34m=\u001b[0m \u001b[0mpd\u001b[0m\u001b[0;34m.\u001b[0m\u001b[0mread_pickle\u001b[0m\u001b[0;34m(\u001b[0m\u001b[0;34m\"../../voice/train/F/VCC2SF1/\"\u001b[0m\u001b[0;34m+\u001b[0m\u001b[0mi\u001b[0m\u001b[0;34m)\u001b[0m\u001b[0;34m\u001b[0m\u001b[0;34m\u001b[0m\u001b[0m\n\u001b[1;32m      3\u001b[0m     \u001b[0mprint\u001b[0m\u001b[0;34m(\u001b[0m\u001b[0ma\u001b[0m\u001b[0;34m.\u001b[0m\u001b[0mshape\u001b[0m\u001b[0;34m)\u001b[0m\u001b[0;34m\u001b[0m\u001b[0;34m\u001b[0m\u001b[0m\n",
      "\u001b[0;31mFileNotFoundError\u001b[0m: [Errno 2] No such file or directory: '../../voice/train/F/VCC2SF1'"
     ]
    }
   ],
   "source": [
    "for i in os.listdir(\"../../voice/train/F/VCC2SF1\"):\n",
    "    a = pd.read_pickle(\"../../voice/train/F/VCC2SF1/\"+i)\n",
    "    print(a.shape)"
   ]
  },
  {
   "cell_type": "markdown",
   "id": "6559b925-a02f-4469-ab6b-99b8dd27db4e",
   "metadata": {},
   "source": [
    "# dataloader"
   ]
  },
  {
   "cell_type": "markdown",
   "id": "7c795306-86ad-4bf3-9b2a-4f14e5b371f2",
   "metadata": {},
   "source": [
    "## transform"
   ]
  },
  {
   "cell_type": "markdown",
   "id": "93d6e2ba-a5ee-4f89-a1d6-5c980465b8e2",
   "metadata": {},
   "source": [
    "### voice"
   ]
  },
  {
   "cell_type": "code",
   "execution_count": 11,
   "id": "0640eaf0-537c-4509-bcc0-0a1f36b638e4",
   "metadata": {},
   "outputs": [],
   "source": [
    "class VoiceTrans(object):\n",
    "    def __init__(self, maxi, mini):\n",
    "        self.maxi = maxi\n",
    "        self.mini = mini\n",
    "\n",
    "    def norm_voice(self, array):\n",
    "        array -= self.mini\n",
    "        array /= self.maxi\n",
    "    \n",
    "        return array\n",
    "    \n",
    "    def cut(self, voice):\n",
    "        return voice[:, :voice.shape[1]-voice.shape[1]%4]\n",
    "    \n",
    "    def __call__(self, sample):\n",
    "        \n",
    "        return self.cut(self.norm_voice(sample))"
   ]
  },
  {
   "cell_type": "code",
   "execution_count": 12,
   "id": "055b26da-92ba-4455-b4eb-06c825e6c29e",
   "metadata": {},
   "outputs": [],
   "source": [
    "voice = pd.read_pickle(\"../../voice/train/VCC2SF1/10001.pkl\")"
   ]
  },
  {
   "cell_type": "code",
   "execution_count": null,
   "id": "b5c47ec5-a1a0-4725-9df1-a5302738bad6",
   "metadata": {},
   "outputs": [],
   "source": [
    "#t = VoiceTrans()\n",
    "#t(voice).shape"
   ]
  },
  {
   "cell_type": "markdown",
   "id": "18941a2d-d88a-4511-8b4c-298969d9f610",
   "metadata": {},
   "source": [
    "### image"
   ]
  },
  {
   "cell_type": "code",
   "execution_count": 13,
   "id": "c01de658-f8c1-4293-865c-3c10f53d1fe9",
   "metadata": {},
   "outputs": [],
   "source": [
    "class ImageTrans(object):\n",
    "    def __init__(self):\n",
    "        pass\n",
    "\n",
    "    def norm_image(self, array):\n",
    "        return array/255\n",
    "    \n",
    "    def __call__(self, sample):\n",
    "        \n",
    "        return self.norm_image(sample).T"
   ]
  },
  {
   "cell_type": "code",
   "execution_count": 14,
   "id": "6a55e234-e9a3-43dc-8635-896d425154c4",
   "metadata": {},
   "outputs": [],
   "source": [
    "image = cv2.imread(\"../../image/000001.jpg\")"
   ]
  },
  {
   "cell_type": "code",
   "execution_count": 15,
   "id": "84b10a77-6ac1-4c72-afbc-10be463b76e3",
   "metadata": {},
   "outputs": [
    {
     "data": {
      "text/plain": [
       "(3, 32, 32)"
      ]
     },
     "execution_count": 15,
     "metadata": {},
     "output_type": "execute_result"
    }
   ],
   "source": [
    "a = ImageTrans()\n",
    "a(image).shape"
   ]
  },
  {
   "cell_type": "markdown",
   "id": "489c3070-f124-427e-981d-1695aca21004",
   "metadata": {},
   "source": [
    "# dataset"
   ]
  },
  {
   "cell_type": "code",
   "execution_count": 16,
   "id": "15041124-e78c-4218-91ee-a57a85620030",
   "metadata": {},
   "outputs": [],
   "source": [
    "import pathlib\n",
    "import itertools\n",
    "import pandas as pd\n",
    "import numpy as np\n",
    "import torch"
   ]
  },
  {
   "cell_type": "markdown",
   "id": "fb699db3-e2f8-4bf7-bc0c-eef71942d632",
   "metadata": {},
   "source": [
    "### voice"
   ]
  },
  {
   "cell_type": "code",
   "execution_count": 17,
   "id": "13a47ca6-8f6a-459d-a61e-58ac1eee4c8f",
   "metadata": {},
   "outputs": [],
   "source": [
    "class VoiceDataset(torch.utils.data.Dataset):\n",
    "    def __init__(self, path, train, trans):\n",
    "        p = pathlib.Path(path)\n",
    "        \n",
    "        if train:\n",
    "            self.path = p / \"train\"\n",
    "        else:\n",
    "            self.path = p / \"eval\"\n",
    "        \n",
    "        self.trans = trans\n",
    "        \n",
    "        \n",
    "        self.dir = [i for i in self.path.iterdir() if i.is_dir()]       \n",
    "        self.file = list(itertools.chain.from_iterable([[j for j in i.iterdir()] for i in self.dir]))\n",
    "        \n",
    "        self.data = [pd.read_pickle(i) for i in self.file]\n",
    "        self.label = [1 if \"M\" == str(i.parent)[-2] else -1 for i in self.file]\n",
    "    \n",
    "        self.datanum = len(self.data)\n",
    "    \n",
    "    def __len__(self):\n",
    "        return self.datanum\n",
    "\n",
    "    def __getitem__(self, idx):\n",
    "        out_data = self.data[idx]\n",
    "        out_label = self.label[idx]\n",
    "\n",
    "        if self.trans:\n",
    "            k = np.concatenate(c.data,axis=1)\n",
    "            maxi = k.max()\n",
    "            mini = k.min()\n",
    "            self.transform = VoiceTrans(maxi, mini)\n",
    "            \n",
    "            out_data = torch.tensor(self.transform(out_data))\n",
    "\n",
    "        return out_data, out_label"
   ]
  },
  {
   "cell_type": "code",
   "execution_count": 18,
   "id": "dee5a9d0-3cda-4a84-9570-e3ccfb749f4f",
   "metadata": {},
   "outputs": [],
   "source": [
    "c = VoiceDataset(path=\"../../voice\", train=1, trans=1)"
   ]
  },
  {
   "cell_type": "code",
   "execution_count": 19,
   "id": "a2b5c5c3-1bb3-4b70-bc7b-6387be798b83",
   "metadata": {},
   "outputs": [
    {
     "ename": "AttributeError",
     "evalue": "'tuple' object has no attribute 'shape'",
     "output_type": "error",
     "traceback": [
      "\u001b[0;31m---------------------------------------------------------------------------\u001b[0m",
      "\u001b[0;31mAttributeError\u001b[0m                            Traceback (most recent call last)",
      "\u001b[0;32m<ipython-input-19-db41364409e7>\u001b[0m in \u001b[0;36m<module>\u001b[0;34m\u001b[0m\n\u001b[0;32m----> 1\u001b[0;31m \u001b[0mc\u001b[0m\u001b[0;34m.\u001b[0m\u001b[0m__getitem__\u001b[0m\u001b[0;34m(\u001b[0m\u001b[0;36m1\u001b[0m\u001b[0;34m)\u001b[0m\u001b[0;34m.\u001b[0m\u001b[0mshape\u001b[0m\u001b[0;34m\u001b[0m\u001b[0;34m\u001b[0m\u001b[0m\n\u001b[0m",
      "\u001b[0;31mAttributeError\u001b[0m: 'tuple' object has no attribute 'shape'"
     ]
    }
   ],
   "source": [
    "c.__getitem__(1).shape"
   ]
  },
  {
   "cell_type": "markdown",
   "id": "ee3579e2-9773-4540-aeb8-c96556e2a5d1",
   "metadata": {},
   "source": [
    "### face"
   ]
  },
  {
   "cell_type": "code",
   "execution_count": 20,
   "id": "fbce392a-2dfb-4dc7-adf7-7b57a2970956",
   "metadata": {},
   "outputs": [],
   "source": [
    "import random\n",
    "\n",
    "class ImageDataset(torch.utils.data.Dataset):\n",
    "    def __init__(self, path, trans):\n",
    "        p = pathlib.Path(path)\n",
    "        if trans:\n",
    "            self.transform = ImageTrans()\n",
    "        \n",
    "        self.dir = p\n",
    "        self.file = [i for i in self.dir.iterdir() if i.suffix == \".jpg\"]\n",
    "        \n",
    "        \n",
    "        if self.transform:\n",
    "            self.data = [self.transform(cv2.imread(str(i))) for i in self.file]\n",
    "        else:\n",
    "            self.data = [cv2.imread(str(i)) for i in self.file]\n",
    " \n",
    "        \n",
    "        image_df = pd.read_table(\"../../list_attr_celeba.txt\", header=0,sep=\" \", index_col=0)\n",
    "        self.label = [image_df[\"Male\"][i.name] for i  in self.file]\n",
    "        \"\"\"\n",
    "        for i in self.file:\n",
    "            try:\n",
    "                image_df[\"Male\"][i.name]\n",
    "            except:\n",
    "                print(i.name)\n",
    "        \"\"\"     \n",
    "                \n",
    "        \n",
    "        self.datanum = len(self.data)\n",
    "    \n",
    "    def __len__(self):\n",
    "        return self.datanum\n",
    "\n",
    "    def __getitem__(self, idx):\n",
    "        out_data = self.data[idx]\n",
    "        out_label = self.label[idx]\n",
    "\n",
    "        \n",
    "        return out_data, out_label\n",
    "    \n",
    "    def sample_label(self, male, num):\n",
    "        l = random.sample([i for i, x in enumerate(self.label) if x==male], num)\n",
    "        return l\n",
    "    \n",
    "    def sample_data(self, male, num):\n",
    "        label = self.sample_label(male, num)\n",
    "        data = self.data\n",
    "        print(data[0].shape)\n",
    "        return torch.tensor([data[i] for i in label])\n",
    "    \n",
    "    \n",
    "    \n",
    "    "
   ]
  },
  {
   "cell_type": "code",
   "execution_count": 21,
   "id": "300c42f9-6844-4123-b2bd-042eb9befde0",
   "metadata": {},
   "outputs": [],
   "source": [
    "f = ImageDataset(\"../../image\", trans=1)"
   ]
  },
  {
   "cell_type": "markdown",
   "id": "69b03b0f-60ca-4218-bcfa-09c5b94ead73",
   "metadata": {},
   "source": [
    "## dataloader"
   ]
  },
  {
   "cell_type": "code",
   "execution_count": null,
   "id": "60e40bb2-ed2a-4be1-8dc9-44a08848b4f3",
   "metadata": {},
   "outputs": [],
   "source": [
    "def collate_fn(batch):\n",
    "    # bactchはDatasetの返り値 (タプル) のリスト\n",
    "    images, labels = [], []\n",
    "    \n",
    "    for image, label in batch:\n",
    "        images.append(image)\n",
    "        labels.append(label)\n",
    "        \n",
    "    images = torch.stack(images, dim=0)\n",
    "\n",
    "    # labelsはTensorリストのまま\n",
    "\n",
    "    return images, labels"
   ]
  },
  {
   "cell_type": "code",
   "execution_count": 22,
   "id": "4dddd53a-c25b-4761-92fa-ba819f45d89b",
   "metadata": {},
   "outputs": [],
   "source": [
    "trainloader = torch.utils.data.DataLoader(f, batch_size = 2, shuffle = False, num_workers = 2)"
   ]
  },
  {
   "cell_type": "code",
   "execution_count": 23,
   "id": "d2b4f659-abed-4390-b473-95b183510c5a",
   "metadata": {},
   "outputs": [
    {
     "name": "stdout",
     "output_type": "stream",
     "text": [
      "torch.Size([2, 3, 32, 32])\n",
      "torch.Size([2])\n"
     ]
    }
   ],
   "source": [
    "for data,label in trainloader:\n",
    "    break\n",
    "print(data.shape)\n",
    "print(label.shape)"
   ]
  },
  {
   "cell_type": "code",
   "execution_count": 24,
   "id": "f201c87a-4685-4393-959a-a260484822e1",
   "metadata": {},
   "outputs": [
    {
     "name": "stdout",
     "output_type": "stream",
     "text": [
      "(3, 32, 32)\n"
     ]
    },
    {
     "data": {
      "text/plain": [
       "torch.Size([10, 3, 32, 32])"
      ]
     },
     "execution_count": 24,
     "metadata": {},
     "output_type": "execute_result"
    }
   ],
   "source": [
    "f.sample_data(1, 10).shape"
   ]
  }
 ],
 "metadata": {
  "kernelspec": {
   "display_name": "Python 3",
   "language": "python",
   "name": "python3"
  },
  "language_info": {
   "codemirror_mode": {
    "name": "ipython",
    "version": 3
   },
   "file_extension": ".py",
   "mimetype": "text/x-python",
   "name": "python",
   "nbconvert_exporter": "python",
   "pygments_lexer": "ipython3",
   "version": "3.7.10"
  }
 },
 "nbformat": 4,
 "nbformat_minor": 5
}
