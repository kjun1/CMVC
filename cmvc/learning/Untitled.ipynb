{
 "cells": [
  {
   "cell_type": "code",
   "execution_count": 1,
   "id": "d365cf03-e554-4c7a-be32-160e7d8acdc9",
   "metadata": {},
   "outputs": [],
   "source": [
    "import pandas as pd\n",
    "import numpy as np\n",
    "import cv2"
   ]
  },
  {
   "cell_type": "code",
   "execution_count": null,
   "id": "e45a9fe3-17c6-4d9b-8dda-a360acc8811d",
   "metadata": {},
   "outputs": [],
   "source": []
  },
  {
   "cell_type": "markdown",
   "id": "6b09d1c0-3d36-4deb-b3d3-8bedb2bb46a4",
   "metadata": {},
   "source": [
    "# testデータ読み込み"
   ]
  },
  {
   "cell_type": "code",
   "execution_count": 2,
   "id": "de57e923-15cc-408e-8603-e0d4f17864fd",
   "metadata": {},
   "outputs": [],
   "source": [
    "voice = pd.read_pickle(\"../../voice/train/VCC2SF1/10002.pkl\")\n",
    "image = cv2.imread(\"../../image/000001.jpg\")"
   ]
  },
  {
   "cell_type": "markdown",
   "id": "8120cb64-63e5-48b9-84ab-0dc1906edd03",
   "metadata": {},
   "source": [
    "# ノーマライズ"
   ]
  },
  {
   "cell_type": "markdown",
   "id": "cd4a04b6-69a7-4910-8297-0f99941f8baf",
   "metadata": {},
   "source": [
    "## 音声\n",
    "\n",
    "min = 0, max = 1 に変換"
   ]
  },
  {
   "cell_type": "code",
   "execution_count": 3,
   "id": "b9a8b45b-7325-495b-92e3-ea8e2b7248a2",
   "metadata": {},
   "outputs": [],
   "source": [
    "def norm_voice(array):\n",
    "    min = array.min()\n",
    "    array -= min \n",
    "    \n",
    "    max = array.max()\n",
    "    array /= max\n",
    "    \n",
    "    return array"
   ]
  },
  {
   "cell_type": "code",
   "execution_count": 4,
   "id": "be0365b6-a116-4930-965f-f6d6582e3e43",
   "metadata": {},
   "outputs": [],
   "source": [
    "# test\n",
    "voice = norm_voice(voice)"
   ]
  },
  {
   "cell_type": "markdown",
   "id": "9c87c5e0-6013-4dba-95e7-73e9f6e7d801",
   "metadata": {},
   "source": [
    "入力値のuttr_lenが4の倍数じゃないとバグるので最終を切る"
   ]
  },
  {
   "cell_type": "code",
   "execution_count": 5,
   "id": "63f4022e-ce5a-4b77-b52e-ed51437404f0",
   "metadata": {},
   "outputs": [],
   "source": [
    "voice = voice[:, :voice.shape[1]-voice.shape[1]%4]"
   ]
  },
  {
   "cell_type": "markdown",
   "id": "7c82a185-71d9-4207-a1a6-4e35617d99d7",
   "metadata": {},
   "source": [
    "## 画像"
   ]
  },
  {
   "cell_type": "code",
   "execution_count": 6,
   "id": "80e3b104-2fda-4f99-88e1-75a26c8aac3f",
   "metadata": {},
   "outputs": [],
   "source": [
    "def norm_image(array):\n",
    "    return array/255"
   ]
  },
  {
   "cell_type": "code",
   "execution_count": 7,
   "id": "ac705d8c-4648-478a-99c9-14cf82d24e80",
   "metadata": {},
   "outputs": [],
   "source": [
    "image = norm_image(image)"
   ]
  },
  {
   "cell_type": "markdown",
   "id": "93056fd1-3390-4146-8b17-3003a7eee3e0",
   "metadata": {},
   "source": [
    "# 学習テスト"
   ]
  },
  {
   "cell_type": "code",
   "execution_count": 8,
   "id": "6c794a22-4cd1-4237-8d5d-efcf895f7166",
   "metadata": {},
   "outputs": [],
   "source": [
    "import cmvc.models.model as cmvc\n",
    "import torch\n",
    "from torch import optim"
   ]
  },
  {
   "cell_type": "code",
   "execution_count": 9,
   "id": "89d7b3d1-ae73-4e62-a3aa-d69d52a92945",
   "metadata": {},
   "outputs": [],
   "source": [
    "device = \"cpu\"\n",
    "net = cmvc.Net()"
   ]
  },
  {
   "cell_type": "markdown",
   "id": "e61feb5a-f0d6-41f7-9390-26bf29a75275",
   "metadata": {},
   "source": [
    "\"\"\"\n",
    "\n",
    "入力\n",
    "\n",
    "1: バッチサイズ\n",
    "\n",
    "2: channel\n",
    "\n",
    "3: mccs_size(画像における縦)\n",
    "\n",
    "4: uttr_len(画像における横)\n",
    "\n",
    "\"\"\""
   ]
  },
  {
   "cell_type": "code",
   "execution_count": 10,
   "id": "307e5a06-9cd0-4654-b888-102ae7984caf",
   "metadata": {},
   "outputs": [],
   "source": [
    "x = torch.tensor([[voice], [voice]], dtype=torch.float32)"
   ]
  },
  {
   "cell_type": "code",
   "execution_count": 11,
   "id": "65f2dee6-9dd3-44bd-92e9-5a2a63a59500",
   "metadata": {},
   "outputs": [],
   "source": [
    "y = torch.tensor([image.T, image.T], dtype=torch.float32)"
   ]
  },
  {
   "cell_type": "code",
   "execution_count": 12,
   "id": "66c7b848-8fc5-4ae6-84e7-93cb23fd5186",
   "metadata": {},
   "outputs": [
    {
     "data": {
      "text/plain": [
       "torch.Size([2, 1, 36, 176])"
      ]
     },
     "execution_count": 12,
     "metadata": {},
     "output_type": "execute_result"
    }
   ],
   "source": [
    "x.shape"
   ]
  },
  {
   "cell_type": "code",
   "execution_count": 13,
   "id": "1d353dc7-d486-4ed1-9d06-5d117291b1a5",
   "metadata": {},
   "outputs": [
    {
     "data": {
      "text/plain": [
       "torch.Size([2, 3, 32, 32])"
      ]
     },
     "execution_count": 13,
     "metadata": {},
     "output_type": "execute_result"
    }
   ],
   "source": [
    "y.shape"
   ]
  },
  {
   "cell_type": "code",
   "execution_count": 35,
   "id": "9a747c0a-1f37-45ad-bdb4-bf0c854a5ebe",
   "metadata": {},
   "outputs": [
    {
     "name": "stdout",
     "output_type": "stream",
     "text": [
      "tensor(5.7689, grad_fn=<SumBackward0>) tensor(699.7460, grad_fn=<SumBackward0>)\n",
      "tensor(0.0118, grad_fn=<SumBackward0>) tensor(16.0012, grad_fn=<SumBackward0>)\n",
      "tensor(1.3289, grad_fn=<MulBackward0>) tensor(1.3530e-05, grad_fn=<MulBackward0>) tensor(0.4314, grad_fn=<MseLossBackward>) tensor(0.1289, grad_fn=<MseLossBackward>)\n",
      "tensor(0.1290, grad_fn=<AddBackward0>)\n",
      "tensor(2.0182, grad_fn=<AddBackward0>)\n"
     ]
    }
   ],
   "source": [
    "optimizer = optim.Adam(net.parameters(), lr=0.001)\n",
    "net.train()\n",
    "\n",
    "x = x.to(device) \n",
    "y = y.to(device)\n",
    "net.zero_grad()\n",
    "#print(net.test(x, y))\n",
    "loss = net.loss(x, y)\n",
    "print(loss)\n",
    "loss.backward()\n",
    "optimizer.step()"
   ]
  }
 ],
 "metadata": {
  "kernelspec": {
   "display_name": "Python 3",
   "language": "python",
   "name": "python3"
  },
  "language_info": {
   "codemirror_mode": {
    "name": "ipython",
    "version": 3
   },
   "file_extension": ".py",
   "mimetype": "text/x-python",
   "name": "python",
   "nbconvert_exporter": "python",
   "pygments_lexer": "ipython3",
   "version": "3.7.4"
  }
 },
 "nbformat": 4,
 "nbformat_minor": 5
}
